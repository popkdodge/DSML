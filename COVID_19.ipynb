{
 "nbformat": 4,
 "nbformat_minor": 2,
 "metadata": {
  "language_info": {
   "name": "python",
   "codemirror_mode": {
    "name": "ipython",
    "version": 3
   },
   "version": "3.7.6-final"
  },
  "orig_nbformat": 2,
  "file_extension": ".py",
  "mimetype": "text/x-python",
  "name": "python",
  "npconvert_exporter": "python",
  "pygments_lexer": "ipython3",
  "version": 3,
  "kernelspec": {
   "name": "python3",
   "display_name": "Python 3"
  }
 },
 "cells": [
  {
   "cell_type": "code",
   "execution_count": 13,
   "metadata": {},
   "outputs": [],
   "source": [
    "import numpy as np\n",
    "import pandas as pd \n",
    ""
   ]
  },
  {
   "cell_type": "code",
   "execution_count": 14,
   "metadata": {},
   "outputs": [],
   "source": [
    "dataset_url = 'https://raw.githubusercontent.com/jihoo-kim/Data-Science-for-COVID-19/master/dataset/Patient/PatientInfo.csv'\n",
    "covid = pd.read_csv(dataset_url)"
   ]
  },
  {
   "cell_type": "code",
   "execution_count": 15,
   "metadata": {},
   "outputs": [
    {
     "output_type": "execute_result",
     "data": {
      "text/plain": "   patient_id  global_num     sex  birth_year  age country province  \\\n0  1000000001         2.0    male      1964.0  50s   Korea    Seoul   \n1  1000000002         5.0    male      1987.0  30s   Korea    Seoul   \n2  1000000003         6.0    male      1964.0  50s   Korea    Seoul   \n3  1000000004         7.0    male      1991.0  20s   Korea    Seoul   \n4  1000000005         9.0  female      1992.0  20s   Korea    Seoul   \n\n          city disease        infection_case  infection_order   infected_by  \\\n0   Gangseo-gu     NaN       overseas inflow              1.0           NaN   \n1  Jungnang-gu     NaN       overseas inflow              1.0           NaN   \n2    Jongno-gu     NaN  contact with patient              2.0  2.002000e+09   \n3      Mapo-gu     NaN       overseas inflow              1.0           NaN   \n4  Seongbuk-gu     NaN  contact with patient              2.0  1.000000e+09   \n\n   contact_number symptom_onset_date confirmed_date released_date  \\\n0            75.0         2020-01-22     2020-01-23    2020-02-05   \n1            31.0                NaN     2020-01-30    2020-03-02   \n2            17.0                NaN     2020-01-30    2020-02-19   \n3             9.0         2020-01-26     2020-01-30    2020-02-15   \n4             2.0                NaN     2020-01-31    2020-02-24   \n\n  deceased_date     state  \n0           NaN  released  \n1           NaN  released  \n2           NaN  released  \n3           NaN  released  \n4           NaN  released  ",
      "text/html": "<div>\n<style scoped>\n    .dataframe tbody tr th:only-of-type {\n        vertical-align: middle;\n    }\n\n    .dataframe tbody tr th {\n        vertical-align: top;\n    }\n\n    .dataframe thead th {\n        text-align: right;\n    }\n</style>\n<table border=\"1\" class=\"dataframe\">\n  <thead>\n    <tr style=\"text-align: right;\">\n      <th></th>\n      <th>patient_id</th>\n      <th>global_num</th>\n      <th>sex</th>\n      <th>birth_year</th>\n      <th>age</th>\n      <th>country</th>\n      <th>province</th>\n      <th>city</th>\n      <th>disease</th>\n      <th>infection_case</th>\n      <th>infection_order</th>\n      <th>infected_by</th>\n      <th>contact_number</th>\n      <th>symptom_onset_date</th>\n      <th>confirmed_date</th>\n      <th>released_date</th>\n      <th>deceased_date</th>\n      <th>state</th>\n    </tr>\n  </thead>\n  <tbody>\n    <tr>\n      <th>0</th>\n      <td>1000000001</td>\n      <td>2.0</td>\n      <td>male</td>\n      <td>1964.0</td>\n      <td>50s</td>\n      <td>Korea</td>\n      <td>Seoul</td>\n      <td>Gangseo-gu</td>\n      <td>NaN</td>\n      <td>overseas inflow</td>\n      <td>1.0</td>\n      <td>NaN</td>\n      <td>75.0</td>\n      <td>2020-01-22</td>\n      <td>2020-01-23</td>\n      <td>2020-02-05</td>\n      <td>NaN</td>\n      <td>released</td>\n    </tr>\n    <tr>\n      <th>1</th>\n      <td>1000000002</td>\n      <td>5.0</td>\n      <td>male</td>\n      <td>1987.0</td>\n      <td>30s</td>\n      <td>Korea</td>\n      <td>Seoul</td>\n      <td>Jungnang-gu</td>\n      <td>NaN</td>\n      <td>overseas inflow</td>\n      <td>1.0</td>\n      <td>NaN</td>\n      <td>31.0</td>\n      <td>NaN</td>\n      <td>2020-01-30</td>\n      <td>2020-03-02</td>\n      <td>NaN</td>\n      <td>released</td>\n    </tr>\n    <tr>\n      <th>2</th>\n      <td>1000000003</td>\n      <td>6.0</td>\n      <td>male</td>\n      <td>1964.0</td>\n      <td>50s</td>\n      <td>Korea</td>\n      <td>Seoul</td>\n      <td>Jongno-gu</td>\n      <td>NaN</td>\n      <td>contact with patient</td>\n      <td>2.0</td>\n      <td>2.002000e+09</td>\n      <td>17.0</td>\n      <td>NaN</td>\n      <td>2020-01-30</td>\n      <td>2020-02-19</td>\n      <td>NaN</td>\n      <td>released</td>\n    </tr>\n    <tr>\n      <th>3</th>\n      <td>1000000004</td>\n      <td>7.0</td>\n      <td>male</td>\n      <td>1991.0</td>\n      <td>20s</td>\n      <td>Korea</td>\n      <td>Seoul</td>\n      <td>Mapo-gu</td>\n      <td>NaN</td>\n      <td>overseas inflow</td>\n      <td>1.0</td>\n      <td>NaN</td>\n      <td>9.0</td>\n      <td>2020-01-26</td>\n      <td>2020-01-30</td>\n      <td>2020-02-15</td>\n      <td>NaN</td>\n      <td>released</td>\n    </tr>\n    <tr>\n      <th>4</th>\n      <td>1000000005</td>\n      <td>9.0</td>\n      <td>female</td>\n      <td>1992.0</td>\n      <td>20s</td>\n      <td>Korea</td>\n      <td>Seoul</td>\n      <td>Seongbuk-gu</td>\n      <td>NaN</td>\n      <td>contact with patient</td>\n      <td>2.0</td>\n      <td>1.000000e+09</td>\n      <td>2.0</td>\n      <td>NaN</td>\n      <td>2020-01-31</td>\n      <td>2020-02-24</td>\n      <td>NaN</td>\n      <td>released</td>\n    </tr>\n  </tbody>\n</table>\n</div>"
     },
     "metadata": {},
     "execution_count": 15
    }
   ],
   "source": [
    "covid.head()"
   ]
  },
  {
   "cell_type": "code",
   "execution_count": 16,
   "metadata": {},
   "outputs": [
    {
     "output_type": "execute_result",
     "data": {
      "text/plain": "(2771, 18)"
     },
     "metadata": {},
     "execution_count": 16
    }
   ],
   "source": [
    "covid.shape"
   ]
  },
  {
   "cell_type": "code",
   "execution_count": 17,
   "metadata": {},
   "outputs": [
    {
     "output_type": "execute_result",
     "data": {
      "text/plain": "patient_id               0\nglobal_num            1107\nsex                      6\nbirth_year             357\nage                     13\ncountry                  0\nprovince                 0\ncity                    68\ndisease               2752\ninfection_case         928\ninfection_order       2740\ninfected_by           2121\ncontact_number        2254\nsymptom_onset_date    2382\nconfirmed_date           0\nreleased_date         2062\ndeceased_date         2723\nstate                    0\ndtype: int64"
     },
     "metadata": {},
     "execution_count": 17
    }
   ],
   "source": [
    "covid.isnull().sum()"
   ]
  },
  {
   "cell_type": "code",
   "execution_count": 18,
   "metadata": {},
   "outputs": [],
   "source": [
    "condition = {'isolated':0,'released':1,'deceased':3}\n",
    "covid.state = covid.state.map(condition)"
   ]
  },
  {
   "cell_type": "code",
   "execution_count": 19,
   "metadata": {},
   "outputs": [],
   "source": [
    "covid['decease'] = covid.state == 3"
   ]
  },
  {
   "cell_type": "code",
   "execution_count": 20,
   "metadata": {},
   "outputs": [],
   "source": [
    "covid_19 = covid[['sex','age','province','decease']]"
   ]
  },
  {
   "cell_type": "code",
   "execution_count": 21,
   "metadata": {},
   "outputs": [
    {
     "output_type": "execute_result",
     "data": {
      "text/plain": "         sex  age province  decease\n0       male  50s    Seoul    False\n1       male  30s    Seoul    False\n2       male  50s    Seoul    False\n3       male  20s    Seoul    False\n4     female  20s    Seoul    False\n...      ...  ...      ...      ...\n2766  female  20s  Jeju-do    False\n2767    male  30s  Jeju-do    False\n2768  female  20s  Jeju-do    False\n2769  female  10s  Jeju-do    False\n2770  female  20s  Jeju-do    False\n\n[2771 rows x 4 columns]",
      "text/html": "<div>\n<style scoped>\n    .dataframe tbody tr th:only-of-type {\n        vertical-align: middle;\n    }\n\n    .dataframe tbody tr th {\n        vertical-align: top;\n    }\n\n    .dataframe thead th {\n        text-align: right;\n    }\n</style>\n<table border=\"1\" class=\"dataframe\">\n  <thead>\n    <tr style=\"text-align: right;\">\n      <th></th>\n      <th>sex</th>\n      <th>age</th>\n      <th>province</th>\n      <th>decease</th>\n    </tr>\n  </thead>\n  <tbody>\n    <tr>\n      <th>0</th>\n      <td>male</td>\n      <td>50s</td>\n      <td>Seoul</td>\n      <td>False</td>\n    </tr>\n    <tr>\n      <th>1</th>\n      <td>male</td>\n      <td>30s</td>\n      <td>Seoul</td>\n      <td>False</td>\n    </tr>\n    <tr>\n      <th>2</th>\n      <td>male</td>\n      <td>50s</td>\n      <td>Seoul</td>\n      <td>False</td>\n    </tr>\n    <tr>\n      <th>3</th>\n      <td>male</td>\n      <td>20s</td>\n      <td>Seoul</td>\n      <td>False</td>\n    </tr>\n    <tr>\n      <th>4</th>\n      <td>female</td>\n      <td>20s</td>\n      <td>Seoul</td>\n      <td>False</td>\n    </tr>\n    <tr>\n      <th>...</th>\n      <td>...</td>\n      <td>...</td>\n      <td>...</td>\n      <td>...</td>\n    </tr>\n    <tr>\n      <th>2766</th>\n      <td>female</td>\n      <td>20s</td>\n      <td>Jeju-do</td>\n      <td>False</td>\n    </tr>\n    <tr>\n      <th>2767</th>\n      <td>male</td>\n      <td>30s</td>\n      <td>Jeju-do</td>\n      <td>False</td>\n    </tr>\n    <tr>\n      <th>2768</th>\n      <td>female</td>\n      <td>20s</td>\n      <td>Jeju-do</td>\n      <td>False</td>\n    </tr>\n    <tr>\n      <th>2769</th>\n      <td>female</td>\n      <td>10s</td>\n      <td>Jeju-do</td>\n      <td>False</td>\n    </tr>\n    <tr>\n      <th>2770</th>\n      <td>female</td>\n      <td>20s</td>\n      <td>Jeju-do</td>\n      <td>False</td>\n    </tr>\n  </tbody>\n</table>\n<p>2771 rows × 4 columns</p>\n</div>"
     },
     "metadata": {},
     "execution_count": 21
    }
   ],
   "source": [
    "covid_19"
   ]
  },
  {
   "cell_type": "code",
   "execution_count": 23,
   "metadata": {},
   "outputs": [],
   "source": [
    "X = covid_19\n",
    ""
   ]
  },
  {
   "cell_type": "code",
   "execution_count": 24,
   "metadata": {},
   "outputs": [
    {
     "output_type": "stream",
     "name": "stderr",
     "text": "C:\\Users\\Sasana Kongjareon\\anaconda3\\lib\\site-packages\\ipykernel_launcher.py:1: SettingWithCopyWarning: \nA value is trying to be set on a copy of a slice from a DataFrame.\nTry using .loc[row_indexer,col_indexer] = value instead\n\nSee the caveats in the documentation: https://pandas.pydata.org/pandas-docs/stable/user_guide/indexing.html#returning-a-view-versus-a-copy\n  \"\"\"Entry point for launching an IPython kernel.\nC:\\Users\\Sasana Kongjareon\\anaconda3\\lib\\site-packages\\ipykernel_launcher.py:2: SettingWithCopyWarning: \nA value is trying to be set on a copy of a slice from a DataFrame.\nTry using .loc[row_indexer,col_indexer] = value instead\n\nSee the caveats in the documentation: https://pandas.pydata.org/pandas-docs/stable/user_guide/indexing.html#returning-a-view-versus-a-copy\n  \nC:\\Users\\Sasana Kongjareon\\anaconda3\\lib\\site-packages\\ipykernel_launcher.py:3: SettingWithCopyWarning: \nA value is trying to be set on a copy of a slice from a DataFrame.\nTry using .loc[row_indexer,col_indexer] = value instead\n\nSee the caveats in the documentation: https://pandas.pydata.org/pandas-docs/stable/user_guide/indexing.html#returning-a-view-versus-a-copy\n  This is separate from the ipykernel package so we can avoid doing imports until\nC:\\Users\\Sasana Kongjareon\\anaconda3\\lib\\site-packages\\ipykernel_launcher.py:4: SettingWithCopyWarning: \nA value is trying to be set on a copy of a slice from a DataFrame.\nTry using .loc[row_indexer,col_indexer] = value instead\n\nSee the caveats in the documentation: https://pandas.pydata.org/pandas-docs/stable/user_guide/indexing.html#returning-a-view-versus-a-copy\n  after removing the cwd from sys.path.\nC:\\Users\\Sasana Kongjareon\\anaconda3\\lib\\site-packages\\ipykernel_launcher.py:5: SettingWithCopyWarning: \nA value is trying to be set on a copy of a slice from a DataFrame.\nTry using .loc[row_indexer,col_indexer] = value instead\n\nSee the caveats in the documentation: https://pandas.pydata.org/pandas-docs/stable/user_guide/indexing.html#returning-a-view-versus-a-copy\n  \"\"\"\nC:\\Users\\Sasana Kongjareon\\anaconda3\\lib\\site-packages\\ipykernel_launcher.py:6: SettingWithCopyWarning: \nA value is trying to be set on a copy of a slice from a DataFrame.\nTry using .loc[row_indexer,col_indexer] = value instead\n\nSee the caveats in the documentation: https://pandas.pydata.org/pandas-docs/stable/user_guide/indexing.html#returning-a-view-versus-a-copy\n  \nC:\\Users\\Sasana Kongjareon\\anaconda3\\lib\\site-packages\\ipykernel_launcher.py:7: SettingWithCopyWarning: \nA value is trying to be set on a copy of a slice from a DataFrame.\nTry using .loc[row_indexer,col_indexer] = value instead\n\nSee the caveats in the documentation: https://pandas.pydata.org/pandas-docs/stable/user_guide/indexing.html#returning-a-view-versus-a-copy\n  import sys\nC:\\Users\\Sasana Kongjareon\\anaconda3\\lib\\site-packages\\ipykernel_launcher.py:8: SettingWithCopyWarning: \nA value is trying to be set on a copy of a slice from a DataFrame.\nTry using .loc[row_indexer,col_indexer] = value instead\n\nSee the caveats in the documentation: https://pandas.pydata.org/pandas-docs/stable/user_guide/indexing.html#returning-a-view-versus-a-copy\n  \nC:\\Users\\Sasana Kongjareon\\anaconda3\\lib\\site-packages\\ipykernel_launcher.py:9: SettingWithCopyWarning: \nA value is trying to be set on a copy of a slice from a DataFrame.\nTry using .loc[row_indexer,col_indexer] = value instead\n\nSee the caveats in the documentation: https://pandas.pydata.org/pandas-docs/stable/user_guide/indexing.html#returning-a-view-versus-a-copy\n  if __name__ == '__main__':\nC:\\Users\\Sasana Kongjareon\\anaconda3\\lib\\site-packages\\ipykernel_launcher.py:10: SettingWithCopyWarning: \nA value is trying to be set on a copy of a slice from a DataFrame.\nTry using .loc[row_indexer,col_indexer] = value instead\n\nSee the caveats in the documentation: https://pandas.pydata.org/pandas-docs/stable/user_guide/indexing.html#returning-a-view-versus-a-copy\n  # Remove the CWD from sys.path while we load stuff.\nC:\\Users\\Sasana Kongjareon\\anaconda3\\lib\\site-packages\\ipykernel_launcher.py:11: SettingWithCopyWarning: \nA value is trying to be set on a copy of a slice from a DataFrame.\nTry using .loc[row_indexer,col_indexer] = value instead\n\nSee the caveats in the documentation: https://pandas.pydata.org/pandas-docs/stable/user_guide/indexing.html#returning-a-view-versus-a-copy\n  # This is added back by InteractiveShellApp.init_path()\nC:\\Users\\Sasana Kongjareon\\anaconda3\\lib\\site-packages\\ipykernel_launcher.py:12: SettingWithCopyWarning: \nA value is trying to be set on a copy of a slice from a DataFrame.\nTry using .loc[row_indexer,col_indexer] = value instead\n\nSee the caveats in the documentation: https://pandas.pydata.org/pandas-docs/stable/user_guide/indexing.html#returning-a-view-versus-a-copy\n  if sys.path[0] == '':\n"
    }
   ],
   "source": [
    "X['66s'] = X.age == '66s'\n",
    "X['100s'] = X.age == '100s'\n",
    "X['0s'] = X.age == '0s'\n",
    "X['90s'] = X.age == '90s'\n",
    "X['10s'] = X.age == '10s'\n",
    "X['80s'] = X.age == '80s'\n",
    "X['70s'] = X.age == '70s'\n",
    "X['60s'] = X.age == '60s'\n",
    "X['30s'] = X.age == '30s'\n",
    "X['40s'] = X.age == '40s'\n",
    "X['50s'] = X.age == '50s'\n",
    "X['20s'] = X.age == '20s'"
   ]
  },
  {
   "cell_type": "code",
   "execution_count": 23,
   "metadata": {},
   "outputs": [
    {
     "output_type": "stream",
     "name": "stderr",
     "text": "C:\\Users\\Sasana Kongjareon\\anaconda3\\lib\\site-packages\\ipykernel_launcher.py:1: SettingWithCopyWarning: \nA value is trying to be set on a copy of a slice from a DataFrame.\nTry using .loc[row_indexer,col_indexer] = value instead\n\nSee the caveats in the documentation: https://pandas.pydata.org/pandas-docs/stable/user_guide/indexing.html#returning-a-view-versus-a-copy\n  \"\"\"Entry point for launching an IPython kernel.\nC:\\Users\\Sasana Kongjareon\\anaconda3\\lib\\site-packages\\ipykernel_launcher.py:2: SettingWithCopyWarning: \nA value is trying to be set on a copy of a slice from a DataFrame.\nTry using .loc[row_indexer,col_indexer] = value instead\n\nSee the caveats in the documentation: https://pandas.pydata.org/pandas-docs/stable/user_guide/indexing.html#returning-a-view-versus-a-copy\n  \n"
    }
   ],
   "source": [
    "X['Gyeongsangbuk-do'] = X.province == 'Gyeongsangbuk-do'\n",
    "X['Gyeonggi-do'] = X.province == 'Gyeonggi-do'\n",
    "X['Seoul'] = X.province == 'Seoul'\n",
    "X['Chungcheongnam-do'] = X.province == 'Chungcheongnam-do'\n",
    "X['Busan'] = X.province == 'Busan'\n",
    "X['Gyeongsangnam-do'] = X.province == 'Gyeongsangnam-do'\n",
    "X['Daegu'] = X.province == 'Daegu'\n",
    "X['Incheon'] = X.province == 'Incheon'\n",
    "X['Sejong'] = X.province == 'Sejong'\n",
    "X['Chungcheongbuk-do'] = X.province == 'Chungcheongbuk-do'\n",
    "X['Gangwon-do'] = X.province == 'Gangwon-do'\n",
    "X['Gangwon-do'] = X.province == 'Gangwon-do'\n",
    "X['Daejeon'] = X.province == 'Daejeon'\n",
    "X['Gwangju'] = X.province == 'Gwangju'\n",
    "X['Jeollabuk-do'] = X.province == 'Jeollabuk-do'\n",
    "X['Jeju-do'] = X.province == 'Jeju-do'\n",
    "X['Jeollanam-do'] = X.province == 'Jeollanam-do'"
   ]
  },
  {
   "cell_type": "code",
   "execution_count": 25,
   "metadata": {},
   "outputs": [
    {
     "output_type": "stream",
     "name": "stderr",
     "text": "C:\\Users\\Sasana Kongjareon\\anaconda3\\lib\\site-packages\\ipykernel_launcher.py:1: SettingWithCopyWarning: \nA value is trying to be set on a copy of a slice from a DataFrame.\nTry using .loc[row_indexer,col_indexer] = value instead\n\nSee the caveats in the documentation: https://pandas.pydata.org/pandas-docs/stable/user_guide/indexing.html#returning-a-view-versus-a-copy\n  \"\"\"Entry point for launching an IPython kernel.\nC:\\Users\\Sasana Kongjareon\\anaconda3\\lib\\site-packages\\ipykernel_launcher.py:2: SettingWithCopyWarning: \nA value is trying to be set on a copy of a slice from a DataFrame.\nTry using .loc[row_indexer,col_indexer] = value instead\n\nSee the caveats in the documentation: https://pandas.pydata.org/pandas-docs/stable/user_guide/indexing.html#returning-a-view-versus-a-copy\n  \n"
    }
   ],
   "source": [
    "X['male'] = X.age == 'male'\n",
    "X['female'] = X.age == 'female'"
   ]
  },
  {
   "cell_type": "code",
   "execution_count": 26,
   "metadata": {},
   "outputs": [
    {
     "output_type": "execute_result",
     "data": {
      "text/plain": "         sex  age province  decease    66s   100s     0s    90s    10s    80s  \\\n0       male  50s    Seoul    False  False  False  False  False  False  False   \n1       male  30s    Seoul    False  False  False  False  False  False  False   \n2       male  50s    Seoul    False  False  False  False  False  False  False   \n3       male  20s    Seoul    False  False  False  False  False  False  False   \n4     female  20s    Seoul    False  False  False  False  False  False  False   \n...      ...  ...      ...      ...    ...    ...    ...    ...    ...    ...   \n2766  female  20s  Jeju-do    False  False  False  False  False  False  False   \n2767    male  30s  Jeju-do    False  False  False  False  False  False  False   \n2768  female  20s  Jeju-do    False  False  False  False  False  False  False   \n2769  female  10s  Jeju-do    False  False  False  False  False   True  False   \n2770  female  20s  Jeju-do    False  False  False  False  False  False  False   \n\n        70s    60s    30s    40s    50s    20s   male  female  \n0     False  False  False  False   True  False  False   False  \n1     False  False   True  False  False  False  False   False  \n2     False  False  False  False   True  False  False   False  \n3     False  False  False  False  False   True  False   False  \n4     False  False  False  False  False   True  False   False  \n...     ...    ...    ...    ...    ...    ...    ...     ...  \n2766  False  False  False  False  False   True  False   False  \n2767  False  False   True  False  False  False  False   False  \n2768  False  False  False  False  False   True  False   False  \n2769  False  False  False  False  False  False  False   False  \n2770  False  False  False  False  False   True  False   False  \n\n[2771 rows x 18 columns]",
      "text/html": "<div>\n<style scoped>\n    .dataframe tbody tr th:only-of-type {\n        vertical-align: middle;\n    }\n\n    .dataframe tbody tr th {\n        vertical-align: top;\n    }\n\n    .dataframe thead th {\n        text-align: right;\n    }\n</style>\n<table border=\"1\" class=\"dataframe\">\n  <thead>\n    <tr style=\"text-align: right;\">\n      <th></th>\n      <th>sex</th>\n      <th>age</th>\n      <th>province</th>\n      <th>decease</th>\n      <th>66s</th>\n      <th>100s</th>\n      <th>0s</th>\n      <th>90s</th>\n      <th>10s</th>\n      <th>80s</th>\n      <th>70s</th>\n      <th>60s</th>\n      <th>30s</th>\n      <th>40s</th>\n      <th>50s</th>\n      <th>20s</th>\n      <th>male</th>\n      <th>female</th>\n    </tr>\n  </thead>\n  <tbody>\n    <tr>\n      <th>0</th>\n      <td>male</td>\n      <td>50s</td>\n      <td>Seoul</td>\n      <td>False</td>\n      <td>False</td>\n      <td>False</td>\n      <td>False</td>\n      <td>False</td>\n      <td>False</td>\n      <td>False</td>\n      <td>False</td>\n      <td>False</td>\n      <td>False</td>\n      <td>False</td>\n      <td>True</td>\n      <td>False</td>\n      <td>False</td>\n      <td>False</td>\n    </tr>\n    <tr>\n      <th>1</th>\n      <td>male</td>\n      <td>30s</td>\n      <td>Seoul</td>\n      <td>False</td>\n      <td>False</td>\n      <td>False</td>\n      <td>False</td>\n      <td>False</td>\n      <td>False</td>\n      <td>False</td>\n      <td>False</td>\n      <td>False</td>\n      <td>True</td>\n      <td>False</td>\n      <td>False</td>\n      <td>False</td>\n      <td>False</td>\n      <td>False</td>\n    </tr>\n    <tr>\n      <th>2</th>\n      <td>male</td>\n      <td>50s</td>\n      <td>Seoul</td>\n      <td>False</td>\n      <td>False</td>\n      <td>False</td>\n      <td>False</td>\n      <td>False</td>\n      <td>False</td>\n      <td>False</td>\n      <td>False</td>\n      <td>False</td>\n      <td>False</td>\n      <td>False</td>\n      <td>True</td>\n      <td>False</td>\n      <td>False</td>\n      <td>False</td>\n    </tr>\n    <tr>\n      <th>3</th>\n      <td>male</td>\n      <td>20s</td>\n      <td>Seoul</td>\n      <td>False</td>\n      <td>False</td>\n      <td>False</td>\n      <td>False</td>\n      <td>False</td>\n      <td>False</td>\n      <td>False</td>\n      <td>False</td>\n      <td>False</td>\n      <td>False</td>\n      <td>False</td>\n      <td>False</td>\n      <td>True</td>\n      <td>False</td>\n      <td>False</td>\n    </tr>\n    <tr>\n      <th>4</th>\n      <td>female</td>\n      <td>20s</td>\n      <td>Seoul</td>\n      <td>False</td>\n      <td>False</td>\n      <td>False</td>\n      <td>False</td>\n      <td>False</td>\n      <td>False</td>\n      <td>False</td>\n      <td>False</td>\n      <td>False</td>\n      <td>False</td>\n      <td>False</td>\n      <td>False</td>\n      <td>True</td>\n      <td>False</td>\n      <td>False</td>\n    </tr>\n    <tr>\n      <th>...</th>\n      <td>...</td>\n      <td>...</td>\n      <td>...</td>\n      <td>...</td>\n      <td>...</td>\n      <td>...</td>\n      <td>...</td>\n      <td>...</td>\n      <td>...</td>\n      <td>...</td>\n      <td>...</td>\n      <td>...</td>\n      <td>...</td>\n      <td>...</td>\n      <td>...</td>\n      <td>...</td>\n      <td>...</td>\n      <td>...</td>\n    </tr>\n    <tr>\n      <th>2766</th>\n      <td>female</td>\n      <td>20s</td>\n      <td>Jeju-do</td>\n      <td>False</td>\n      <td>False</td>\n      <td>False</td>\n      <td>False</td>\n      <td>False</td>\n      <td>False</td>\n      <td>False</td>\n      <td>False</td>\n      <td>False</td>\n      <td>False</td>\n      <td>False</td>\n      <td>False</td>\n      <td>True</td>\n      <td>False</td>\n      <td>False</td>\n    </tr>\n    <tr>\n      <th>2767</th>\n      <td>male</td>\n      <td>30s</td>\n      <td>Jeju-do</td>\n      <td>False</td>\n      <td>False</td>\n      <td>False</td>\n      <td>False</td>\n      <td>False</td>\n      <td>False</td>\n      <td>False</td>\n      <td>False</td>\n      <td>False</td>\n      <td>True</td>\n      <td>False</td>\n      <td>False</td>\n      <td>False</td>\n      <td>False</td>\n      <td>False</td>\n    </tr>\n    <tr>\n      <th>2768</th>\n      <td>female</td>\n      <td>20s</td>\n      <td>Jeju-do</td>\n      <td>False</td>\n      <td>False</td>\n      <td>False</td>\n      <td>False</td>\n      <td>False</td>\n      <td>False</td>\n      <td>False</td>\n      <td>False</td>\n      <td>False</td>\n      <td>False</td>\n      <td>False</td>\n      <td>False</td>\n      <td>True</td>\n      <td>False</td>\n      <td>False</td>\n    </tr>\n    <tr>\n      <th>2769</th>\n      <td>female</td>\n      <td>10s</td>\n      <td>Jeju-do</td>\n      <td>False</td>\n      <td>False</td>\n      <td>False</td>\n      <td>False</td>\n      <td>False</td>\n      <td>True</td>\n      <td>False</td>\n      <td>False</td>\n      <td>False</td>\n      <td>False</td>\n      <td>False</td>\n      <td>False</td>\n      <td>False</td>\n      <td>False</td>\n      <td>False</td>\n    </tr>\n    <tr>\n      <th>2770</th>\n      <td>female</td>\n      <td>20s</td>\n      <td>Jeju-do</td>\n      <td>False</td>\n      <td>False</td>\n      <td>False</td>\n      <td>False</td>\n      <td>False</td>\n      <td>False</td>\n      <td>False</td>\n      <td>False</td>\n      <td>False</td>\n      <td>False</td>\n      <td>False</td>\n      <td>False</td>\n      <td>True</td>\n      <td>False</td>\n      <td>False</td>\n    </tr>\n  </tbody>\n</table>\n<p>2771 rows × 18 columns</p>\n</div>"
     },
     "metadata": {},
     "execution_count": 26
    }
   ],
   "source": [
    "X"
   ]
  },
  {
   "cell_type": "code",
   "execution_count": 32,
   "metadata": {},
   "outputs": [],
   "source": [
    "covid_ready = X.drop(columns=['age','province','sex'])"
   ]
  },
  {
   "cell_type": "code",
   "execution_count": 27,
   "metadata": {},
   "outputs": [
    {
     "output_type": "execute_result",
     "data": {
      "text/plain": "0       False\n1       False\n2       False\n3       False\n4       False\n        ...  \n2766    False\n2767    False\n2768    False\n2769    False\n2770    False\nName: male, Length: 2771, dtype: bool"
     },
     "metadata": {},
     "execution_count": 27
    }
   ],
   "source": [
    "X['male']"
   ]
  },
  {
   "cell_type": "code",
   "execution_count": 28,
   "metadata": {},
   "outputs": [
    {
     "output_type": "stream",
     "name": "stderr",
     "text": "C:\\Users\\Sasana Kongjareon\\anaconda3\\lib\\site-packages\\sklearn\\externals\\joblib\\__init__.py:15: FutureWarning: sklearn.externals.joblib is deprecated in 0.21 and will be removed in 0.23. Please import this functionality directly from joblib, which can be installed with: pip install joblib. If this warning is raised when loading pickled models, you may need to re-serialize those models with scikit-learn 0.21+.\n  warnings.warn(msg, category=FutureWarning)\n"
    }
   ],
   "source": [
    "from sklearn.model_selection import train_test_split\n",
    "from sklearn import preprocessing\n",
    "from sklearn.ensemble import RandomForestRegressor\n",
    "from sklearn.pipeline import make_pipeline\n",
    "from sklearn.model_selection import GridSearchCV\n",
    "from sklearn.metrics import mean_squared_error, r2_score\n",
    "from sklearn.externals import joblib "
   ]
  },
  {
   "cell_type": "code",
   "execution_count": 29,
   "metadata": {},
   "outputs": [],
   "source": [
    "import seaborn as sns   \n",
    ""
   ]
  },
  {
   "cell_type": "code",
   "execution_count": 30,
   "metadata": {},
   "outputs": [
    {
     "output_type": "error",
     "ename": "TypeError",
     "evalue": "pairplot() missing 1 required positional argument: 'data'",
     "traceback": [
      "\u001b[1;31m---------------------------------------------------------------------------\u001b[0m",
      "\u001b[1;31mTypeError\u001b[0m                                 Traceback (most recent call last)",
      "\u001b[1;32m<ipython-input-30-4b9ab8d39ae3>\u001b[0m in \u001b[0;36m<module>\u001b[1;34m\u001b[0m\n\u001b[1;32m----> 1\u001b[1;33m \u001b[0msns\u001b[0m\u001b[1;33m.\u001b[0m\u001b[0mpairplot\u001b[0m\u001b[1;33m(\u001b[0m\u001b[1;33m)\u001b[0m\u001b[1;33m\u001b[0m\u001b[1;33m\u001b[0m\u001b[0m\n\u001b[0m",
      "\u001b[1;31mTypeError\u001b[0m: pairplot() missing 1 required positional argument: 'data'"
     ]
    }
   ],
   "source": [
    "sns.pairplot()"
   ]
  },
  {
   "cell_type": "code",
   "execution_count": 33,
   "metadata": {},
   "outputs": [
    {
     "output_type": "execute_result",
     "data": {
      "text/plain": "      decease    66s   100s     0s    90s    10s    80s    70s    60s    30s  \\\n0       False  False  False  False  False  False  False  False  False  False   \n1       False  False  False  False  False  False  False  False  False   True   \n2       False  False  False  False  False  False  False  False  False  False   \n3       False  False  False  False  False  False  False  False  False  False   \n4       False  False  False  False  False  False  False  False  False  False   \n...       ...    ...    ...    ...    ...    ...    ...    ...    ...    ...   \n2766    False  False  False  False  False  False  False  False  False  False   \n2767    False  False  False  False  False  False  False  False  False   True   \n2768    False  False  False  False  False  False  False  False  False  False   \n2769    False  False  False  False  False   True  False  False  False  False   \n2770    False  False  False  False  False  False  False  False  False  False   \n\n        40s    50s    20s   male  female  \n0     False   True  False  False   False  \n1     False  False  False  False   False  \n2     False   True  False  False   False  \n3     False  False   True  False   False  \n4     False  False   True  False   False  \n...     ...    ...    ...    ...     ...  \n2766  False  False   True  False   False  \n2767  False  False  False  False   False  \n2768  False  False   True  False   False  \n2769  False  False  False  False   False  \n2770  False  False   True  False   False  \n\n[2771 rows x 15 columns]",
      "text/html": "<div>\n<style scoped>\n    .dataframe tbody tr th:only-of-type {\n        vertical-align: middle;\n    }\n\n    .dataframe tbody tr th {\n        vertical-align: top;\n    }\n\n    .dataframe thead th {\n        text-align: right;\n    }\n</style>\n<table border=\"1\" class=\"dataframe\">\n  <thead>\n    <tr style=\"text-align: right;\">\n      <th></th>\n      <th>decease</th>\n      <th>66s</th>\n      <th>100s</th>\n      <th>0s</th>\n      <th>90s</th>\n      <th>10s</th>\n      <th>80s</th>\n      <th>70s</th>\n      <th>60s</th>\n      <th>30s</th>\n      <th>40s</th>\n      <th>50s</th>\n      <th>20s</th>\n      <th>male</th>\n      <th>female</th>\n    </tr>\n  </thead>\n  <tbody>\n    <tr>\n      <th>0</th>\n      <td>False</td>\n      <td>False</td>\n      <td>False</td>\n      <td>False</td>\n      <td>False</td>\n      <td>False</td>\n      <td>False</td>\n      <td>False</td>\n      <td>False</td>\n      <td>False</td>\n      <td>False</td>\n      <td>True</td>\n      <td>False</td>\n      <td>False</td>\n      <td>False</td>\n    </tr>\n    <tr>\n      <th>1</th>\n      <td>False</td>\n      <td>False</td>\n      <td>False</td>\n      <td>False</td>\n      <td>False</td>\n      <td>False</td>\n      <td>False</td>\n      <td>False</td>\n      <td>False</td>\n      <td>True</td>\n      <td>False</td>\n      <td>False</td>\n      <td>False</td>\n      <td>False</td>\n      <td>False</td>\n    </tr>\n    <tr>\n      <th>2</th>\n      <td>False</td>\n      <td>False</td>\n      <td>False</td>\n      <td>False</td>\n      <td>False</td>\n      <td>False</td>\n      <td>False</td>\n      <td>False</td>\n      <td>False</td>\n      <td>False</td>\n      <td>False</td>\n      <td>True</td>\n      <td>False</td>\n      <td>False</td>\n      <td>False</td>\n    </tr>\n    <tr>\n      <th>3</th>\n      <td>False</td>\n      <td>False</td>\n      <td>False</td>\n      <td>False</td>\n      <td>False</td>\n      <td>False</td>\n      <td>False</td>\n      <td>False</td>\n      <td>False</td>\n      <td>False</td>\n      <td>False</td>\n      <td>False</td>\n      <td>True</td>\n      <td>False</td>\n      <td>False</td>\n    </tr>\n    <tr>\n      <th>4</th>\n      <td>False</td>\n      <td>False</td>\n      <td>False</td>\n      <td>False</td>\n      <td>False</td>\n      <td>False</td>\n      <td>False</td>\n      <td>False</td>\n      <td>False</td>\n      <td>False</td>\n      <td>False</td>\n      <td>False</td>\n      <td>True</td>\n      <td>False</td>\n      <td>False</td>\n    </tr>\n    <tr>\n      <th>...</th>\n      <td>...</td>\n      <td>...</td>\n      <td>...</td>\n      <td>...</td>\n      <td>...</td>\n      <td>...</td>\n      <td>...</td>\n      <td>...</td>\n      <td>...</td>\n      <td>...</td>\n      <td>...</td>\n      <td>...</td>\n      <td>...</td>\n      <td>...</td>\n      <td>...</td>\n    </tr>\n    <tr>\n      <th>2766</th>\n      <td>False</td>\n      <td>False</td>\n      <td>False</td>\n      <td>False</td>\n      <td>False</td>\n      <td>False</td>\n      <td>False</td>\n      <td>False</td>\n      <td>False</td>\n      <td>False</td>\n      <td>False</td>\n      <td>False</td>\n      <td>True</td>\n      <td>False</td>\n      <td>False</td>\n    </tr>\n    <tr>\n      <th>2767</th>\n      <td>False</td>\n      <td>False</td>\n      <td>False</td>\n      <td>False</td>\n      <td>False</td>\n      <td>False</td>\n      <td>False</td>\n      <td>False</td>\n      <td>False</td>\n      <td>True</td>\n      <td>False</td>\n      <td>False</td>\n      <td>False</td>\n      <td>False</td>\n      <td>False</td>\n    </tr>\n    <tr>\n      <th>2768</th>\n      <td>False</td>\n      <td>False</td>\n      <td>False</td>\n      <td>False</td>\n      <td>False</td>\n      <td>False</td>\n      <td>False</td>\n      <td>False</td>\n      <td>False</td>\n      <td>False</td>\n      <td>False</td>\n      <td>False</td>\n      <td>True</td>\n      <td>False</td>\n      <td>False</td>\n    </tr>\n    <tr>\n      <th>2769</th>\n      <td>False</td>\n      <td>False</td>\n      <td>False</td>\n      <td>False</td>\n      <td>False</td>\n      <td>True</td>\n      <td>False</td>\n      <td>False</td>\n      <td>False</td>\n      <td>False</td>\n      <td>False</td>\n      <td>False</td>\n      <td>False</td>\n      <td>False</td>\n      <td>False</td>\n    </tr>\n    <tr>\n      <th>2770</th>\n      <td>False</td>\n      <td>False</td>\n      <td>False</td>\n      <td>False</td>\n      <td>False</td>\n      <td>False</td>\n      <td>False</td>\n      <td>False</td>\n      <td>False</td>\n      <td>False</td>\n      <td>False</td>\n      <td>False</td>\n      <td>True</td>\n      <td>False</td>\n      <td>False</td>\n    </tr>\n  </tbody>\n</table>\n<p>2771 rows × 15 columns</p>\n</div>"
     },
     "metadata": {},
     "execution_count": 33
    }
   ],
   "source": [
    "covid_ready"
   ]
  },
  {
   "cell_type": "code",
   "execution_count": 32,
   "metadata": {},
   "outputs": [
    {
     "output_type": "execute_result",
     "data": {
      "text/plain": "((2078, 31), (693, 31))"
     },
     "metadata": {},
     "execution_count": 32
    }
   ],
   "source": [
    "train, test = train_test_split(covid_ready)\n",
    "train.shape, test.shape"
   ]
  },
  {
   "cell_type": "code",
   "execution_count": 33,
   "metadata": {},
   "outputs": [],
   "source": [
    "target = 'decease'\n",
    "x_train = train.drop(columns=target)\n",
    "y_train = train[target]\n",
    "X_test = test.drop(columns=target)\n",
    "Y_test = test[target]"
   ]
  },
  {
   "cell_type": "code",
   "execution_count": 34,
   "metadata": {},
   "outputs": [
    {
     "output_type": "stream",
     "name": "stdout",
     "text": "(2078, 30) (2078,)\n"
    },
    {
     "output_type": "execute_result",
     "data": {
      "text/plain": "((693, 30), (693,))"
     },
     "metadata": {},
     "execution_count": 34
    }
   ],
   "source": [
    "print(x_train.shape, y_train.shape)  '''x train feature ytrain target'''\n",
    "X_test.shape, Y_test.shape            '''X test features Ytest target'''"
   ]
  },
  {
   "cell_type": "code",
   "execution_count": 67,
   "metadata": {},
   "outputs": [],
   "source": [
    "#import category_encoders as ce\n",
    "import numpy as np\n",
    "from sklearn.impute import SimpleImputer\n",
    "from sklearn.ensemble import RandomForestClassifier\n",
    "from sklearn.model_selection import train_test_split\n",
    "from sklearn.pipeline import make_pipeline\n",
    "\n",
    "\n",
    ""
   ]
  },
  {
   "cell_type": "code",
   "execution_count": 38,
   "metadata": {},
   "outputs": [
    {
     "output_type": "execute_result",
     "data": {
      "text/plain": "Pipeline(memory=None,\n         steps=[('randomforestclassifier',\n                 RandomForestClassifier(bootstrap=True, ccp_alpha=0.0,\n                                        class_weight=None, criterion='gini',\n                                        max_depth=None, max_features='auto',\n                                        max_leaf_nodes=None, max_samples=None,\n                                        min_impurity_decrease=0.0,\n                                        min_impurity_split=None,\n                                        min_samples_leaf=1, min_samples_split=2,\n                                        min_weight_fraction_leaf=0.0,\n                                        n_estimators=123, n_jobs=-1,\n                                        oob_score=False, random_state=123,\n                                        verbose=0, warm_start=False))],\n         verbose=False)"
     },
     "metadata": {},
     "execution_count": 38
    }
   ],
   "source": [
    "forrest = make_pipeline(\n",
    "    RandomForestClassifier(n_estimators=123,n_jobs=-1,random_state=123)\n",
    ")\n",
    "\n",
    "forrest.fit(x_train, y_train)"
   ]
  },
  {
   "cell_type": "code",
   "execution_count": 39,
   "metadata": {},
   "outputs": [
    {
     "output_type": "stream",
     "name": "stdout",
     "text": "The validation accuracy is: \n"
    },
    {
     "output_type": "execute_result",
     "data": {
      "text/plain": "0.9812409812409812"
     },
     "metadata": {},
     "execution_count": 39
    }
   ],
   "source": [
    "print('The validation accuracy is: ') #This is the robot homework score.\n",
    "forrest.score(X_test, Y_test)"
   ]
  },
  {
   "cell_type": "code",
   "execution_count": 41,
   "metadata": {},
   "outputs": [
    {
     "output_type": "stream",
     "name": "stdout",
     "text": "Requirement already satisfied: dtreeviz in c:\\users\\sasana kongjareon\\anaconda3\\lib\\site-packages (0.8.2)\nRequirement already satisfied: numpy in c:\\users\\sasana kongjareon\\anaconda3\\lib\\site-packages (from dtreeviz) (1.18.1)\nRequirement already satisfied: scikit-learn in c:\\users\\sasana kongjareon\\anaconda3\\lib\\site-packages (from dtreeviz) (0.22.1)\nRequirement already satisfied: matplotlib in c:\\users\\sasana kongjareon\\anaconda3\\lib\\site-packages (from dtreeviz) (3.1.3)\nRequirement already satisfied: colour in c:\\users\\sasana kongjareon\\anaconda3\\lib\\site-packages (from dtreeviz) (0.1.5)\nRequirement already satisfied: graphviz>=0.9 in c:\\users\\sasana kongjareon\\anaconda3\\lib\\site-packages (from dtreeviz) (0.13.2)\nRequirement already satisfied: pandas in c:\\users\\sasana kongjareon\\anaconda3\\lib\\site-packages (from dtreeviz) (1.0.1)\nRequirement already satisfied: joblib>=0.11 in c:\\users\\sasana kongjareon\\anaconda3\\lib\\site-packages (from scikit-learn->dtreeviz) (0.14.1)\nRequirement already satisfied: scipy>=0.17.0 in c:\\users\\sasana kongjareon\\anaconda3\\lib\\site-packages (from scikit-learn->dtreeviz) (1.4.1)\nRequirement already satisfied: cycler>=0.10 in c:\\users\\sasana kongjareon\\anaconda3\\lib\\site-packages (from matplotlib->dtreeviz) (0.10.0)\nRequirement already satisfied: kiwisolver>=1.0.1 in c:\\users\\sasana kongjareon\\anaconda3\\lib\\site-packages (from matplotlib->dtreeviz) (1.1.0)\nRequirement already satisfied: python-dateutil>=2.1 in c:\\users\\sasana kongjareon\\anaconda3\\lib\\site-packages (from matplotlib->dtreeviz) (2.8.1)\nRequirement already satisfied: pyparsing!=2.0.4,!=2.1.2,!=2.1.6,>=2.0.1 in c:\\users\\sasana kongjareon\\anaconda3\\lib\\site-packages (from matplotlib->dtreeviz) (2.4.6)\nRequirement already satisfied: pytz>=2017.2 in c:\\users\\sasana kongjareon\\anaconda3\\lib\\site-packages (from pandas->dtreeviz) (2019.3)\nRequirement already satisfied: six in c:\\users\\sasana kongjareon\\anaconda3\\lib\\site-packages (from cycler>=0.10->matplotlib->dtreeviz) (1.14.0)\nRequirement already satisfied: setuptools in c:\\users\\sasana kongjareon\\anaconda3\\lib\\site-packages (from kiwisolver>=1.0.1->matplotlib->dtreeviz) (45.2.0.post20200210)\n'apt' is not recognized as an internal or external command,\noperable program or batch file.\n'apt' is not recognized as an internal or external command,\noperable program or batch file.\n"
    }
   ],
   "source": [
    "!pip install dtreeviz\n",
    "!apt install graphviz\n",
    "!apt install xdg-utils"
   ]
  },
  {
   "cell_type": "code",
   "execution_count": 43,
   "metadata": {},
   "outputs": [],
   "source": [
    "from sklearn.metrics import accuracy_score"
   ]
  },
  {
   "cell_type": "code",
   "execution_count": 50,
   "metadata": {},
   "outputs": [
    {
     "output_type": "error",
     "ename": "NameError",
     "evalue": "name 'x_train' is not defined",
     "traceback": [
      "\u001b[1;31m---------------------------------------------------------------------------\u001b[0m",
      "\u001b[1;31mNameError\u001b[0m                                 Traceback (most recent call last)",
      "\u001b[1;32m<ipython-input-50-b40ecd4a63a2>\u001b[0m in \u001b[0;36m<module>\u001b[1;34m\u001b[0m\n\u001b[0;32m      1\u001b[0m \u001b[1;32mfrom\u001b[0m \u001b[0msklearn\u001b[0m\u001b[1;33m.\u001b[0m\u001b[0mtree\u001b[0m \u001b[1;32mimport\u001b[0m \u001b[0mDecisionTreeClassifier\u001b[0m\u001b[1;33m\u001b[0m\u001b[1;33m\u001b[0m\u001b[0m\n\u001b[0;32m      2\u001b[0m \u001b[0mmodel\u001b[0m \u001b[1;33m=\u001b[0m \u001b[0mDecisionTreeClassifier\u001b[0m\u001b[1;33m(\u001b[0m\u001b[0mmax_depth\u001b[0m\u001b[1;33m=\u001b[0m\u001b[1;36m50\u001b[0m\u001b[1;33m)\u001b[0m\u001b[1;33m\u001b[0m\u001b[1;33m\u001b[0m\u001b[0m\n\u001b[1;32m----> 3\u001b[1;33m \u001b[0mmodel\u001b[0m\u001b[1;33m.\u001b[0m\u001b[0mfit\u001b[0m\u001b[1;33m(\u001b[0m\u001b[0mx_train\u001b[0m\u001b[1;33m,\u001b[0m \u001b[0my_train\u001b[0m\u001b[1;33m)\u001b[0m\u001b[1;33m\u001b[0m\u001b[1;33m\u001b[0m\u001b[0m\n\u001b[0m\u001b[0;32m      4\u001b[0m \u001b[1;33m\u001b[0m\u001b[0m\n\u001b[0;32m      5\u001b[0m \u001b[1;31m# Train accuracy\u001b[0m\u001b[1;33m\u001b[0m\u001b[1;33m\u001b[0m\u001b[1;33m\u001b[0m\u001b[0m\n",
      "\u001b[1;31mNameError\u001b[0m: name 'x_train' is not defined"
     ]
    }
   ],
   "source": [
    "from sklearn.tree import DecisionTreeClassifier\n",
    "model = DecisionTreeClassifier(max_depth=50)\n",
    "model.fit(x_train, y_train)\n",
    "\n",
    "# Train accuracy\n",
    "y_true = y_train\n",
    "y_pred = model.predict(x_train)\n",
    "print('Train accuracy:', accuracy_score(y_true, y_pred))\n",
    "\n",
    "# Test accuracy\n",
    "y_true = Y_test\n",
    "y_pred = model.predict(X_test)\n",
    "print('Test accuracy:', accuracy_score(y_true, y_pred))"
   ]
  },
  {
   "cell_type": "code",
   "execution_count": 47,
   "metadata": {},
   "outputs": [
    {
     "output_type": "execute_result",
     "data": {
      "text/plain": "'decease'"
     },
     "metadata": {},
     "execution_count": 47
    }
   ],
   "source": [
    "target"
   ]
  },
  {
   "cell_type": "code",
   "execution_count": 51,
   "metadata": {},
   "outputs": [
    {
     "output_type": "execute_result",
     "data": {
      "text/plain": "DecisionTreeClassifier(ccp_alpha=0.0, class_weight=None, criterion='gini',\n                       max_depth=None, max_features=None, max_leaf_nodes=None,\n                       min_impurity_decrease=0.0, min_impurity_split=None,\n                       min_samples_leaf=1, min_samples_split=2,\n                       min_weight_fraction_leaf=0.0, presort='deprecated',\n                       random_state=None, splitter='best')"
     },
     "metadata": {},
     "execution_count": 51
    }
   ],
   "source": [
    "from sklearn import tree\n",
    "model = tree.DecisionTreeClassifier()\n",
    "model.fit(x_train, y_train)"
   ]
  },
  {
   "cell_type": "code",
   "execution_count": 54,
   "metadata": {},
   "outputs": [
    {
     "output_type": "execute_result",
     "data": {
      "text/plain": "0.9865255052935515"
     },
     "metadata": {},
     "execution_count": 54
    }
   ],
   "source": [
    "model.score(x_train, y_train)"
   ]
  },
  {
   "cell_type": "code",
   "execution_count": 55,
   "metadata": {},
   "outputs": [
    {
     "output_type": "execute_result",
     "data": {
      "text/plain": "<bound method BaseDecisionTree.predict of DecisionTreeClassifier(ccp_alpha=0.0, class_weight=None, criterion='gini',\n                       max_depth=None, max_features=None, max_leaf_nodes=None,\n                       min_impurity_decrease=0.0, min_impurity_split=None,\n                       min_samples_leaf=1, min_samples_split=2,\n                       min_weight_fraction_leaf=0.0, presort='deprecated',\n                       random_state=None, splitter='best')>"
     },
     "metadata": {},
     "execution_count": 55
    }
   ],
   "source": [
    "model.predict"
   ]
  },
  {
   "cell_type": "code",
   "execution_count": 34,
   "metadata": {},
   "outputs": [],
   "source": [
    "covid_19_1 = covid[['sex','age','province','decease']]\n",
    ""
   ]
  },
  {
   "cell_type": "code",
   "execution_count": 42,
   "metadata": {},
   "outputs": [
    {
     "output_type": "execute_result",
     "data": {
      "text/plain": "         sex  age province  decease  sex_n  age_n  province_n\n0       male  50s    Seoul    False      1      6          15\n1       male  30s    Seoul    False      1      4          15\n2       male  50s    Seoul    False      1      6          15\n3       male  20s    Seoul    False      1      3          15\n4     female  20s    Seoul    False      0      3          15\n...      ...  ...      ...      ...    ...    ...         ...\n2766  female  20s  Jeju-do    False      0      3          11\n2767    male  30s  Jeju-do    False      1      4          11\n2768  female  20s  Jeju-do    False      0      3          11\n2769  female  10s  Jeju-do    False      0      2          11\n2770  female  20s  Jeju-do    False      0      3          11\n\n[2771 rows x 7 columns]",
      "text/html": "<div>\n<style scoped>\n    .dataframe tbody tr th:only-of-type {\n        vertical-align: middle;\n    }\n\n    .dataframe tbody tr th {\n        vertical-align: top;\n    }\n\n    .dataframe thead th {\n        text-align: right;\n    }\n</style>\n<table border=\"1\" class=\"dataframe\">\n  <thead>\n    <tr style=\"text-align: right;\">\n      <th></th>\n      <th>sex</th>\n      <th>age</th>\n      <th>province</th>\n      <th>decease</th>\n      <th>sex_n</th>\n      <th>age_n</th>\n      <th>province_n</th>\n    </tr>\n  </thead>\n  <tbody>\n    <tr>\n      <th>0</th>\n      <td>male</td>\n      <td>50s</td>\n      <td>Seoul</td>\n      <td>False</td>\n      <td>1</td>\n      <td>6</td>\n      <td>15</td>\n    </tr>\n    <tr>\n      <th>1</th>\n      <td>male</td>\n      <td>30s</td>\n      <td>Seoul</td>\n      <td>False</td>\n      <td>1</td>\n      <td>4</td>\n      <td>15</td>\n    </tr>\n    <tr>\n      <th>2</th>\n      <td>male</td>\n      <td>50s</td>\n      <td>Seoul</td>\n      <td>False</td>\n      <td>1</td>\n      <td>6</td>\n      <td>15</td>\n    </tr>\n    <tr>\n      <th>3</th>\n      <td>male</td>\n      <td>20s</td>\n      <td>Seoul</td>\n      <td>False</td>\n      <td>1</td>\n      <td>3</td>\n      <td>15</td>\n    </tr>\n    <tr>\n      <th>4</th>\n      <td>female</td>\n      <td>20s</td>\n      <td>Seoul</td>\n      <td>False</td>\n      <td>0</td>\n      <td>3</td>\n      <td>15</td>\n    </tr>\n    <tr>\n      <th>...</th>\n      <td>...</td>\n      <td>...</td>\n      <td>...</td>\n      <td>...</td>\n      <td>...</td>\n      <td>...</td>\n      <td>...</td>\n    </tr>\n    <tr>\n      <th>2766</th>\n      <td>female</td>\n      <td>20s</td>\n      <td>Jeju-do</td>\n      <td>False</td>\n      <td>0</td>\n      <td>3</td>\n      <td>11</td>\n    </tr>\n    <tr>\n      <th>2767</th>\n      <td>male</td>\n      <td>30s</td>\n      <td>Jeju-do</td>\n      <td>False</td>\n      <td>1</td>\n      <td>4</td>\n      <td>11</td>\n    </tr>\n    <tr>\n      <th>2768</th>\n      <td>female</td>\n      <td>20s</td>\n      <td>Jeju-do</td>\n      <td>False</td>\n      <td>0</td>\n      <td>3</td>\n      <td>11</td>\n    </tr>\n    <tr>\n      <th>2769</th>\n      <td>female</td>\n      <td>10s</td>\n      <td>Jeju-do</td>\n      <td>False</td>\n      <td>0</td>\n      <td>2</td>\n      <td>11</td>\n    </tr>\n    <tr>\n      <th>2770</th>\n      <td>female</td>\n      <td>20s</td>\n      <td>Jeju-do</td>\n      <td>False</td>\n      <td>0</td>\n      <td>3</td>\n      <td>11</td>\n    </tr>\n  </tbody>\n</table>\n<p>2771 rows × 7 columns</p>\n</div>"
     },
     "metadata": {},
     "execution_count": 42
    }
   ],
   "source": [
    "covid_19_1"
   ]
  },
  {
   "cell_type": "code",
   "execution_count": 36,
   "metadata": {},
   "outputs": [],
   "source": [
    "from sklearn.preprocessing import LabelEncoder"
   ]
  },
  {
   "cell_type": "code",
   "execution_count": 37,
   "metadata": {},
   "outputs": [],
   "source": [
    "le_sex = LabelEncoder()\n",
    "le_province = LabelEncoder()\n",
    "le_age = LabelEncoder()"
   ]
  },
  {
   "cell_type": "code",
   "execution_count": 40,
   "metadata": {},
   "outputs": [
    {
     "output_type": "execute_result",
     "data": {
      "text/plain": "sex         0\nage         0\nprovince    0\ndecease     0\ndtype: int64"
     },
     "metadata": {},
     "execution_count": 40
    }
   ],
   "source": [
    "covid_19_1.isnull().sum()"
   ]
  },
  {
   "cell_type": "code",
   "execution_count": 39,
   "metadata": {},
   "outputs": [
    {
     "output_type": "stream",
     "name": "stderr",
     "text": "C:\\Users\\Sasana Kongjareon\\anaconda3\\lib\\site-packages\\pandas\\core\\generic.py:6245: SettingWithCopyWarning: \nA value is trying to be set on a copy of a slice from a DataFrame\n\nSee the caveats in the documentation: https://pandas.pydata.org/pandas-docs/stable/user_guide/indexing.html#returning-a-view-versus-a-copy\n  self._update_inplace(new_data)\n"
    }
   ],
   "source": [
    "covid_19_1['age'].fillna('40s', inplace = True)\n",
    "covid_19_1['sex'].fillna('male', inplace = True)"
   ]
  },
  {
   "cell_type": "code",
   "execution_count": 41,
   "metadata": {},
   "outputs": [
    {
     "output_type": "stream",
     "name": "stderr",
     "text": "C:\\Users\\Sasana Kongjareon\\anaconda3\\lib\\site-packages\\ipykernel_launcher.py:1: SettingWithCopyWarning: \nA value is trying to be set on a copy of a slice from a DataFrame.\nTry using .loc[row_indexer,col_indexer] = value instead\n\nSee the caveats in the documentation: https://pandas.pydata.org/pandas-docs/stable/user_guide/indexing.html#returning-a-view-versus-a-copy\n  \"\"\"Entry point for launching an IPython kernel.\nC:\\Users\\Sasana Kongjareon\\anaconda3\\lib\\site-packages\\ipykernel_launcher.py:2: SettingWithCopyWarning: \nA value is trying to be set on a copy of a slice from a DataFrame.\nTry using .loc[row_indexer,col_indexer] = value instead\n\nSee the caveats in the documentation: https://pandas.pydata.org/pandas-docs/stable/user_guide/indexing.html#returning-a-view-versus-a-copy\n  \nC:\\Users\\Sasana Kongjareon\\anaconda3\\lib\\site-packages\\ipykernel_launcher.py:3: SettingWithCopyWarning: \nA value is trying to be set on a copy of a slice from a DataFrame.\nTry using .loc[row_indexer,col_indexer] = value instead\n\nSee the caveats in the documentation: https://pandas.pydata.org/pandas-docs/stable/user_guide/indexing.html#returning-a-view-versus-a-copy\n  This is separate from the ipykernel package so we can avoid doing imports until\n"
    }
   ],
   "source": [
    "covid_19_1['sex_n'] = le_sex.fit_transform(covid_19_1['sex'])\n",
    "covid_19_1['age_n'] = le_sex.fit_transform(covid_19_1['age'])\n",
    "covid_19_1['province_n'] = le_sex.fit_transform(covid_19_1['province'])"
   ]
  },
  {
   "cell_type": "code",
   "execution_count": 45,
   "metadata": {},
   "outputs": [],
   "source": [
    "covid_19_2 = covid_19_1.drop(columns=['sex', 'age', 'province'])"
   ]
  },
  {
   "cell_type": "code",
   "execution_count": 73,
   "metadata": {},
   "outputs": [
    {
     "output_type": "execute_result",
     "data": {
      "text/plain": "      decease  sex_n  age_n  province_n\n0       False      1      6          15\n1       False      1      4          15\n2       False      1      6          15\n3       False      1      3          15\n4       False      0      3          15\n...       ...    ...    ...         ...\n2766    False      0      3          11\n2767    False      1      4          11\n2768    False      0      3          11\n2769    False      0      2          11\n2770    False      0      3          11\n\n[2771 rows x 4 columns]",
      "text/html": "<div>\n<style scoped>\n    .dataframe tbody tr th:only-of-type {\n        vertical-align: middle;\n    }\n\n    .dataframe tbody tr th {\n        vertical-align: top;\n    }\n\n    .dataframe thead th {\n        text-align: right;\n    }\n</style>\n<table border=\"1\" class=\"dataframe\">\n  <thead>\n    <tr style=\"text-align: right;\">\n      <th></th>\n      <th>decease</th>\n      <th>sex_n</th>\n      <th>age_n</th>\n      <th>province_n</th>\n    </tr>\n  </thead>\n  <tbody>\n    <tr>\n      <th>0</th>\n      <td>False</td>\n      <td>1</td>\n      <td>6</td>\n      <td>15</td>\n    </tr>\n    <tr>\n      <th>1</th>\n      <td>False</td>\n      <td>1</td>\n      <td>4</td>\n      <td>15</td>\n    </tr>\n    <tr>\n      <th>2</th>\n      <td>False</td>\n      <td>1</td>\n      <td>6</td>\n      <td>15</td>\n    </tr>\n    <tr>\n      <th>3</th>\n      <td>False</td>\n      <td>1</td>\n      <td>3</td>\n      <td>15</td>\n    </tr>\n    <tr>\n      <th>4</th>\n      <td>False</td>\n      <td>0</td>\n      <td>3</td>\n      <td>15</td>\n    </tr>\n    <tr>\n      <th>...</th>\n      <td>...</td>\n      <td>...</td>\n      <td>...</td>\n      <td>...</td>\n    </tr>\n    <tr>\n      <th>2766</th>\n      <td>False</td>\n      <td>0</td>\n      <td>3</td>\n      <td>11</td>\n    </tr>\n    <tr>\n      <th>2767</th>\n      <td>False</td>\n      <td>1</td>\n      <td>4</td>\n      <td>11</td>\n    </tr>\n    <tr>\n      <th>2768</th>\n      <td>False</td>\n      <td>0</td>\n      <td>3</td>\n      <td>11</td>\n    </tr>\n    <tr>\n      <th>2769</th>\n      <td>False</td>\n      <td>0</td>\n      <td>2</td>\n      <td>11</td>\n    </tr>\n    <tr>\n      <th>2770</th>\n      <td>False</td>\n      <td>0</td>\n      <td>3</td>\n      <td>11</td>\n    </tr>\n  </tbody>\n</table>\n<p>2771 rows × 4 columns</p>\n</div>"
     },
     "metadata": {},
     "execution_count": 73
    }
   ],
   "source": [
    "covid_19_2"
   ]
  },
  {
   "cell_type": "code",
   "execution_count": 47,
   "metadata": {},
   "outputs": [
    {
     "output_type": "execute_result",
     "data": {
      "text/plain": "((2078, 4), (693, 4))"
     },
     "metadata": {},
     "execution_count": 47
    }
   ],
   "source": [
    "train_1, test_1 = train_test_split(covid_19_2)\n",
    "train_1.shape, test_1.shape"
   ]
  },
  {
   "cell_type": "code",
   "execution_count": 65,
   "metadata": {},
   "outputs": [],
   "source": [
    "target = 'decease'\n",
    "features = ['sex_n', 'age_n', 'province_n']\n",
    "x_train_1 = train_1.drop(columns=target)\n",
    "y_train_1 = train_1[target]\n",
    "X_test_1 = test_1.drop(columns=target)\n",
    "Y_test_1 = test_1[target]"
   ]
  },
  {
   "cell_type": "code",
   "execution_count": 68,
   "metadata": {},
   "outputs": [
    {
     "output_type": "execute_result",
     "data": {
      "text/plain": "Pipeline(memory=None,\n         steps=[('randomforestclassifier',\n                 RandomForestClassifier(bootstrap=True, ccp_alpha=0.0,\n                                        class_weight=None, criterion='gini',\n                                        max_depth=None, max_features='auto',\n                                        max_leaf_nodes=None, max_samples=None,\n                                        min_impurity_decrease=0.0,\n                                        min_impurity_split=None,\n                                        min_samples_leaf=1, min_samples_split=2,\n                                        min_weight_fraction_leaf=0.0,\n                                        n_estimators=123, n_jobs=-1,\n                                        oob_score=False, random_state=123,\n                                        verbose=0, warm_start=True))],\n         verbose=False)"
     },
     "metadata": {},
     "execution_count": 68
    }
   ],
   "source": [
    "forrest_1 = make_pipeline(\n",
    "    RandomForestClassifier(n_estimators=123,n_jobs=-1,random_state=123,warm_start=True)\n",
    ")\n",
    "\n",
    "forrest_1.fit(x_train_1, y_train_1)"
   ]
  },
  {
   "cell_type": "code",
   "execution_count": 78,
   "metadata": {},
   "outputs": [
    {
     "output_type": "stream",
     "name": "stdout",
     "text": "Train accuracy: 0.9860442733397498\nTest accuracy: 0.9797979797979798\n"
    }
   ],
   "source": [
    "from sklearn.tree import DecisionTreeClassifier\n",
    "model = DecisionTreeClassifier(max_depth=40)\n",
    "model.fit(x_train_1, y_train_1)\n",
    "\n",
    "# Train accuracy\n",
    "y_true = y_train_1\n",
    "y_pred = model.predict(x_train_1)\n",
    "print('Train accuracy:', accuracy_score(y_true, y_pred))\n",
    "\n",
    "# Test accuracy\n",
    "y_true = Y_test_1\n",
    "y_pred = model.predict(X_test_1)\n",
    "print('Test accuracy:', accuracy_score(y_true, y_pred))"
   ]
  },
  {
   "cell_type": "code",
   "execution_count": 60,
   "metadata": {},
   "outputs": [
    {
     "output_type": "stream",
     "name": "stdout",
     "text": "Requirement already satisfied: dtreeviz in c:\\users\\sasana kongjareon\\anaconda3\\lib\\site-packages (0.8.2)\nRequirement already satisfied: scikit-learn in c:\\users\\sasana kongjareon\\anaconda3\\lib\\site-packages (from dtreeviz) (0.22.1)\nRequirement already satisfied: numpy in c:\\users\\sasana kongjareon\\anaconda3\\lib\\site-packages (from dtreeviz) (1.18.1)\nRequirement already satisfied: matplotlib in c:\\users\\sasana kongjareon\\anaconda3\\lib\\site-packages (from dtreeviz) (3.1.3)\nRequirement already satisfied: pandas in c:\\users\\sasana kongjareon\\anaconda3\\lib\\site-packages (from dtreeviz) (1.0.1)\nRequirement already satisfied: colour in c:\\users\\sasana kongjareon\\anaconda3\\lib\\site-packages (from dtreeviz) (0.1.5)\nRequirement already satisfied: graphviz>=0.9 in c:\\users\\sasana kongjareon\\anaconda3\\lib\\site-packages (from dtreeviz) (0.13.2)\nRequirement already satisfied: scipy>=0.17.0 in c:\\users\\sasana kongjareon\\anaconda3\\lib\\site-packages (from scikit-learn->dtreeviz) (1.4.1)\nRequirement already satisfied: joblib>=0.11 in c:\\users\\sasana kongjareon\\anaconda3\\lib\\site-packages (from scikit-learn->dtreeviz) (0.14.1)\nRequirement already satisfied: python-dateutil>=2.1 in c:\\users\\sasana kongjareon\\anaconda3\\lib\\site-packages (from matplotlib->dtreeviz) (2.8.1)\nRequirement already satisfied: cycler>=0.10 in c:\\users\\sasana kongjareon\\anaconda3\\lib\\site-packages (from matplotlib->dtreeviz) (0.10.0)\nRequirement already satisfied: kiwisolver>=1.0.1 in c:\\users\\sasana kongjareon\\anaconda3\\lib\\site-packages (from matplotlib->dtreeviz) (1.1.0)\nRequirement already satisfied: pyparsing!=2.0.4,!=2.1.2,!=2.1.6,>=2.0.1 in c:\\users\\sasana kongjareon\\anaconda3\\lib\\site-packages (from matplotlib->dtreeviz) (2.4.6)\nRequirement already satisfied: pytz>=2017.2 in c:\\users\\sasana kongjareon\\anaconda3\\lib\\site-packages (from pandas->dtreeviz) (2019.3)\nRequirement already satisfied: six>=1.5 in c:\\users\\sasana kongjareon\\anaconda3\\lib\\site-packages (from python-dateutil>=2.1->matplotlib->dtreeviz) (1.14.0)\nRequirement already satisfied: setuptools in c:\\users\\sasana kongjareon\\anaconda3\\lib\\site-packages (from kiwisolver>=1.0.1->matplotlib->dtreeviz) (45.2.0.post20200210)\n'apt' is not recognized as an internal or external command,\noperable program or batch file.\n'apt' is not recognized as an internal or external command,\noperable program or batch file.\n"
    }
   ],
   "source": [
    "!pip install dtreeviz\n",
    "!apt install graphviz\n",
    "!apt install xdg-utils"
   ]
  },
  {
   "cell_type": "code",
   "execution_count": 71,
   "metadata": {},
   "outputs": [],
   "source": [
    "from sklearn.tree import DecisionTreeClassifier, export_graphviz\n",
    "from sklearn import tree\n",
    "from sklearn.datasets import load_wine\n",
    "from IPython.display import SVG\n",
    "from graphviz import Source\n",
    "from IPython.display import display\n",
    "from sklearn.metrics import accuracy_score"
   ]
  },
  {
   "cell_type": "code",
   "execution_count": 86,
   "metadata": {},
   "outputs": [
    {
     "output_type": "error",
     "ename": "ExecutableNotFound",
     "evalue": "failed to execute ['dot', '-Tsvg'], make sure the Graphviz executables are on your systems' PATH",
     "traceback": [
      "\u001b[1;31m---------------------------------------------------------------------------\u001b[0m",
      "\u001b[1;31mFileNotFoundError\u001b[0m                         Traceback (most recent call last)",
      "\u001b[1;32m~\\anaconda3\\lib\\site-packages\\graphviz\\backend.py\u001b[0m in \u001b[0;36mrun\u001b[1;34m(cmd, input, capture_output, check, quiet, **kwargs)\u001b[0m\n\u001b[0;32m    158\u001b[0m     \u001b[1;32mtry\u001b[0m\u001b[1;33m:\u001b[0m\u001b[1;33m\u001b[0m\u001b[1;33m\u001b[0m\u001b[0m\n\u001b[1;32m--> 159\u001b[1;33m         \u001b[0mproc\u001b[0m \u001b[1;33m=\u001b[0m \u001b[0msubprocess\u001b[0m\u001b[1;33m.\u001b[0m\u001b[0mPopen\u001b[0m\u001b[1;33m(\u001b[0m\u001b[0mcmd\u001b[0m\u001b[1;33m,\u001b[0m \u001b[0mstartupinfo\u001b[0m\u001b[1;33m=\u001b[0m\u001b[0mget_startupinfo\u001b[0m\u001b[1;33m(\u001b[0m\u001b[1;33m)\u001b[0m\u001b[1;33m,\u001b[0m \u001b[1;33m**\u001b[0m\u001b[0mkwargs\u001b[0m\u001b[1;33m)\u001b[0m\u001b[1;33m\u001b[0m\u001b[1;33m\u001b[0m\u001b[0m\n\u001b[0m\u001b[0;32m    160\u001b[0m     \u001b[1;32mexcept\u001b[0m \u001b[0mOSError\u001b[0m \u001b[1;32mas\u001b[0m \u001b[0me\u001b[0m\u001b[1;33m:\u001b[0m\u001b[1;33m\u001b[0m\u001b[1;33m\u001b[0m\u001b[0m\n",
      "\u001b[1;32m~\\anaconda3\\lib\\subprocess.py\u001b[0m in \u001b[0;36m__init__\u001b[1;34m(self, args, bufsize, executable, stdin, stdout, stderr, preexec_fn, close_fds, shell, cwd, env, universal_newlines, startupinfo, creationflags, restore_signals, start_new_session, pass_fds, encoding, errors, text)\u001b[0m\n\u001b[0;32m    799\u001b[0m                                 \u001b[0merrread\u001b[0m\u001b[1;33m,\u001b[0m \u001b[0merrwrite\u001b[0m\u001b[1;33m,\u001b[0m\u001b[1;33m\u001b[0m\u001b[1;33m\u001b[0m\u001b[0m\n\u001b[1;32m--> 800\u001b[1;33m                                 restore_signals, start_new_session)\n\u001b[0m\u001b[0;32m    801\u001b[0m         \u001b[1;32mexcept\u001b[0m\u001b[1;33m:\u001b[0m\u001b[1;33m\u001b[0m\u001b[1;33m\u001b[0m\u001b[0m\n",
      "\u001b[1;32m~\\anaconda3\\lib\\subprocess.py\u001b[0m in \u001b[0;36m_execute_child\u001b[1;34m(self, args, executable, preexec_fn, close_fds, pass_fds, cwd, env, startupinfo, creationflags, shell, p2cread, p2cwrite, c2pread, c2pwrite, errread, errwrite, unused_restore_signals, unused_start_new_session)\u001b[0m\n\u001b[0;32m   1206\u001b[0m                                          \u001b[0mos\u001b[0m\u001b[1;33m.\u001b[0m\u001b[0mfspath\u001b[0m\u001b[1;33m(\u001b[0m\u001b[0mcwd\u001b[0m\u001b[1;33m)\u001b[0m \u001b[1;32mif\u001b[0m \u001b[0mcwd\u001b[0m \u001b[1;32mis\u001b[0m \u001b[1;32mnot\u001b[0m \u001b[1;32mNone\u001b[0m \u001b[1;32melse\u001b[0m \u001b[1;32mNone\u001b[0m\u001b[1;33m,\u001b[0m\u001b[1;33m\u001b[0m\u001b[1;33m\u001b[0m\u001b[0m\n\u001b[1;32m-> 1207\u001b[1;33m                                          startupinfo)\n\u001b[0m\u001b[0;32m   1208\u001b[0m             \u001b[1;32mfinally\u001b[0m\u001b[1;33m:\u001b[0m\u001b[1;33m\u001b[0m\u001b[1;33m\u001b[0m\u001b[0m\n",
      "\u001b[1;31mFileNotFoundError\u001b[0m: [WinError 2] The system cannot find the file specified",
      "\nDuring handling of the above exception, another exception occurred:\n",
      "\u001b[1;31mExecutableNotFound\u001b[0m                        Traceback (most recent call last)",
      "\u001b[1;32m<ipython-input-86-3b3c0314b5bf>\u001b[0m in \u001b[0;36m<module>\u001b[1;34m\u001b[0m\n\u001b[0;32m      2\u001b[0m    \u001b[1;33m,\u001b[0m \u001b[0mfeature_names\u001b[0m\u001b[1;33m=\u001b[0m\u001b[0mfeatures\u001b[0m\u001b[1;33m,\u001b[0m \u001b[0mclass_names\u001b[0m\u001b[1;33m=\u001b[0m\u001b[1;33m[\u001b[0m\u001b[1;34m\"decease\"\u001b[0m\u001b[1;33m,\u001b[0m\u001b[1;34m\"alive\"\u001b[0m\u001b[1;33m]\u001b[0m\u001b[1;33m\u001b[0m\u001b[1;33m\u001b[0m\u001b[0m\n\u001b[0;32m      3\u001b[0m    , filled = True))\n\u001b[1;32m----> 4\u001b[1;33m \u001b[0mdisplay\u001b[0m\u001b[1;33m(\u001b[0m\u001b[0mSVG\u001b[0m\u001b[1;33m(\u001b[0m\u001b[0mgraph\u001b[0m\u001b[1;33m.\u001b[0m\u001b[0mpipe\u001b[0m\u001b[1;33m(\u001b[0m\u001b[0mformat\u001b[0m\u001b[1;33m=\u001b[0m\u001b[1;34m'svg'\u001b[0m\u001b[1;33m)\u001b[0m\u001b[1;33m)\u001b[0m\u001b[1;33m)\u001b[0m\u001b[1;33m\u001b[0m\u001b[1;33m\u001b[0m\u001b[0m\n\u001b[0m",
      "\u001b[1;32m~\\anaconda3\\lib\\site-packages\\graphviz\\files.py\u001b[0m in \u001b[0;36mpipe\u001b[1;34m(self, format, renderer, formatter, quiet)\u001b[0m\n\u001b[0;32m    136\u001b[0m         out = backend.pipe(self._engine, format, data,\n\u001b[0;32m    137\u001b[0m                            \u001b[0mrenderer\u001b[0m\u001b[1;33m=\u001b[0m\u001b[0mrenderer\u001b[0m\u001b[1;33m,\u001b[0m \u001b[0mformatter\u001b[0m\u001b[1;33m=\u001b[0m\u001b[0mformatter\u001b[0m\u001b[1;33m,\u001b[0m\u001b[1;33m\u001b[0m\u001b[1;33m\u001b[0m\u001b[0m\n\u001b[1;32m--> 138\u001b[1;33m                            quiet=quiet)\n\u001b[0m\u001b[0;32m    139\u001b[0m \u001b[1;33m\u001b[0m\u001b[0m\n\u001b[0;32m    140\u001b[0m         \u001b[1;32mreturn\u001b[0m \u001b[0mout\u001b[0m\u001b[1;33m\u001b[0m\u001b[1;33m\u001b[0m\u001b[0m\n",
      "\u001b[1;32m~\\anaconda3\\lib\\site-packages\\graphviz\\backend.py\u001b[0m in \u001b[0;36mpipe\u001b[1;34m(engine, format, data, renderer, formatter, quiet)\u001b[0m\n\u001b[0;32m    227\u001b[0m     \"\"\"\n\u001b[0;32m    228\u001b[0m     \u001b[0mcmd\u001b[0m\u001b[1;33m,\u001b[0m \u001b[0m_\u001b[0m \u001b[1;33m=\u001b[0m \u001b[0mcommand\u001b[0m\u001b[1;33m(\u001b[0m\u001b[0mengine\u001b[0m\u001b[1;33m,\u001b[0m \u001b[0mformat\u001b[0m\u001b[1;33m,\u001b[0m \u001b[1;32mNone\u001b[0m\u001b[1;33m,\u001b[0m \u001b[0mrenderer\u001b[0m\u001b[1;33m,\u001b[0m \u001b[0mformatter\u001b[0m\u001b[1;33m)\u001b[0m\u001b[1;33m\u001b[0m\u001b[1;33m\u001b[0m\u001b[0m\n\u001b[1;32m--> 229\u001b[1;33m     \u001b[0mout\u001b[0m\u001b[1;33m,\u001b[0m \u001b[0m_\u001b[0m \u001b[1;33m=\u001b[0m \u001b[0mrun\u001b[0m\u001b[1;33m(\u001b[0m\u001b[0mcmd\u001b[0m\u001b[1;33m,\u001b[0m \u001b[0minput\u001b[0m\u001b[1;33m=\u001b[0m\u001b[0mdata\u001b[0m\u001b[1;33m,\u001b[0m \u001b[0mcapture_output\u001b[0m\u001b[1;33m=\u001b[0m\u001b[1;32mTrue\u001b[0m\u001b[1;33m,\u001b[0m \u001b[0mcheck\u001b[0m\u001b[1;33m=\u001b[0m\u001b[1;32mTrue\u001b[0m\u001b[1;33m,\u001b[0m \u001b[0mquiet\u001b[0m\u001b[1;33m=\u001b[0m\u001b[0mquiet\u001b[0m\u001b[1;33m)\u001b[0m\u001b[1;33m\u001b[0m\u001b[1;33m\u001b[0m\u001b[0m\n\u001b[0m\u001b[0;32m    230\u001b[0m     \u001b[1;32mreturn\u001b[0m \u001b[0mout\u001b[0m\u001b[1;33m\u001b[0m\u001b[1;33m\u001b[0m\u001b[0m\n\u001b[0;32m    231\u001b[0m \u001b[1;33m\u001b[0m\u001b[0m\n",
      "\u001b[1;32m~\\anaconda3\\lib\\site-packages\\graphviz\\backend.py\u001b[0m in \u001b[0;36mrun\u001b[1;34m(cmd, input, capture_output, check, quiet, **kwargs)\u001b[0m\n\u001b[0;32m    160\u001b[0m     \u001b[1;32mexcept\u001b[0m \u001b[0mOSError\u001b[0m \u001b[1;32mas\u001b[0m \u001b[0me\u001b[0m\u001b[1;33m:\u001b[0m\u001b[1;33m\u001b[0m\u001b[1;33m\u001b[0m\u001b[0m\n\u001b[0;32m    161\u001b[0m         \u001b[1;32mif\u001b[0m \u001b[0me\u001b[0m\u001b[1;33m.\u001b[0m\u001b[0merrno\u001b[0m \u001b[1;33m==\u001b[0m \u001b[0merrno\u001b[0m\u001b[1;33m.\u001b[0m\u001b[0mENOENT\u001b[0m\u001b[1;33m:\u001b[0m\u001b[1;33m\u001b[0m\u001b[1;33m\u001b[0m\u001b[0m\n\u001b[1;32m--> 162\u001b[1;33m             \u001b[1;32mraise\u001b[0m \u001b[0mExecutableNotFound\u001b[0m\u001b[1;33m(\u001b[0m\u001b[0mcmd\u001b[0m\u001b[1;33m)\u001b[0m\u001b[1;33m\u001b[0m\u001b[1;33m\u001b[0m\u001b[0m\n\u001b[0m\u001b[0;32m    163\u001b[0m         \u001b[1;32melse\u001b[0m\u001b[1;33m:\u001b[0m\u001b[1;33m\u001b[0m\u001b[1;33m\u001b[0m\u001b[0m\n\u001b[0;32m    164\u001b[0m             \u001b[1;32mraise\u001b[0m\u001b[1;33m\u001b[0m\u001b[1;33m\u001b[0m\u001b[0m\n",
      "\u001b[1;31mExecutableNotFound\u001b[0m: failed to execute ['dot', '-Tsvg'], make sure the Graphviz executables are on your systems' PATH"
     ]
    }
   ],
   "source": [
    "graph = Source(tree.export_graphviz(model, out_file=None\n",
    "   , feature_names=features, class_names=[\"decease\",\"alive\"] \n",
    "   , filled = True))\n",
    "display(SVG(graph.pipe(format='svg')))"
   ]
  },
  {
   "cell_type": "code",
   "execution_count": 58,
   "metadata": {},
   "outputs": [
    {
     "output_type": "stream",
     "name": "stdout",
     "text": "Note: you may need to restart the kernel to use updated packages.\n'C:\\Users\\Sasana' is not recognized as an internal or external command,\noperable program or batch file.\n"
    }
   ],
   "source": [
    "pip install pydotplus"
   ]
  },
  {
   "cell_type": "code",
   "execution_count": 74,
   "metadata": {},
   "outputs": [
    {
     "output_type": "stream",
     "name": "stdout",
     "text": "Requirement already satisfied: graphviz in c:\\users\\sasana kongjareon\\anaconda3\\lib\\site-packages (0.13.2)\n'apt-get' is not recognized as an internal or external command,\noperable program or batch file.\n"
    }
   ],
   "source": [
    "!pip install graphviz\n",
    "!apt-get install graphviz"
   ]
  },
  {
   "cell_type": "code",
   "execution_count": null,
   "metadata": {},
   "outputs": [],
   "source": []
  }
 ]
}