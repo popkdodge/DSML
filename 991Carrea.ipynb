{
 "cells": [
  {
   "cell_type": "code",
   "execution_count": 310,
   "metadata": {},
   "outputs": [],
   "source": [
    "df = pd.read_csv('https://raw.githubusercontent.com/popkdodge/Unit-2-Build/master/Carrera_911_1_2.csv',index_col=[0])"
   ]
  },
  {
   "cell_type": "code",
   "execution_count": 315,
   "metadata": {},
   "outputs": [
    {
     "output_type": "execute_result",
     "data": {
      "text/plain": "              condition  milage     Price  Year    Brand  Model Model_Vers  \\\n0                  Used   47649   48950.0  2012  Porsche    911    Carrera   \n1                  Used   19020   67988.0  2015  Porsche    911    Carrera   \n3                  Used   56436   51990.0  2012  Porsche    911    Carrera   \n4                  Used   85000   34900.0  2009  Porsche    911    Carrera   \n5                  Used   15808   96995.0  2018  Porsche    911    Carrera   \n...                 ...     ...       ...   ...      ...    ...        ...   \n1493               Used   19826   99950.0  2017  Porsche    911    Carrera   \n1494               Used   15710   89995.0  2016  Porsche    911    Carrera   \n1495               Used     502   93900.0  2018  Porsche    911    Carrera   \n1496               Used    5182   81995.0  2016  Porsche    911    Carrera   \n1501  Porsche Certified   10074  112000.0  2018  Porsche    911    Carrera   \n\n       S_RS  Cabriolet  Color Transmission  \n0     Black    Edition  Black    Automatic  \n1      Base    Hardtop  Black    Automatic  \n3         S    Hardtop  Black    Automatic  \n4         S  Cabriolet  Black    Automatic  \n5         S    Hardtop  Black    Automatic  \n...     ...        ...    ...          ...  \n1493     4S    Hardtop  White       Manual  \n1494     4S    Hardtop  White       Manual  \n1495      T    Hardtop  White       Manual  \n1496      S    Hardtop  White       Manual  \n1501     4S    Hardtop  White       Manual  \n\n[810 rows x 11 columns]",
      "text/html": "<div>\n<style scoped>\n    .dataframe tbody tr th:only-of-type {\n        vertical-align: middle;\n    }\n\n    .dataframe tbody tr th {\n        vertical-align: top;\n    }\n\n    .dataframe thead th {\n        text-align: right;\n    }\n</style>\n<table border=\"1\" class=\"dataframe\">\n  <thead>\n    <tr style=\"text-align: right;\">\n      <th></th>\n      <th>condition</th>\n      <th>milage</th>\n      <th>Price</th>\n      <th>Year</th>\n      <th>Brand</th>\n      <th>Model</th>\n      <th>Model_Vers</th>\n      <th>S_RS</th>\n      <th>Cabriolet</th>\n      <th>Color</th>\n      <th>Transmission</th>\n    </tr>\n  </thead>\n  <tbody>\n    <tr>\n      <th>0</th>\n      <td>Used</td>\n      <td>47649</td>\n      <td>48950.0</td>\n      <td>2012</td>\n      <td>Porsche</td>\n      <td>911</td>\n      <td>Carrera</td>\n      <td>Black</td>\n      <td>Edition</td>\n      <td>Black</td>\n      <td>Automatic</td>\n    </tr>\n    <tr>\n      <th>1</th>\n      <td>Used</td>\n      <td>19020</td>\n      <td>67988.0</td>\n      <td>2015</td>\n      <td>Porsche</td>\n      <td>911</td>\n      <td>Carrera</td>\n      <td>Base</td>\n      <td>Hardtop</td>\n      <td>Black</td>\n      <td>Automatic</td>\n    </tr>\n    <tr>\n      <th>3</th>\n      <td>Used</td>\n      <td>56436</td>\n      <td>51990.0</td>\n      <td>2012</td>\n      <td>Porsche</td>\n      <td>911</td>\n      <td>Carrera</td>\n      <td>S</td>\n      <td>Hardtop</td>\n      <td>Black</td>\n      <td>Automatic</td>\n    </tr>\n    <tr>\n      <th>4</th>\n      <td>Used</td>\n      <td>85000</td>\n      <td>34900.0</td>\n      <td>2009</td>\n      <td>Porsche</td>\n      <td>911</td>\n      <td>Carrera</td>\n      <td>S</td>\n      <td>Cabriolet</td>\n      <td>Black</td>\n      <td>Automatic</td>\n    </tr>\n    <tr>\n      <th>5</th>\n      <td>Used</td>\n      <td>15808</td>\n      <td>96995.0</td>\n      <td>2018</td>\n      <td>Porsche</td>\n      <td>911</td>\n      <td>Carrera</td>\n      <td>S</td>\n      <td>Hardtop</td>\n      <td>Black</td>\n      <td>Automatic</td>\n    </tr>\n    <tr>\n      <th>...</th>\n      <td>...</td>\n      <td>...</td>\n      <td>...</td>\n      <td>...</td>\n      <td>...</td>\n      <td>...</td>\n      <td>...</td>\n      <td>...</td>\n      <td>...</td>\n      <td>...</td>\n      <td>...</td>\n    </tr>\n    <tr>\n      <th>1493</th>\n      <td>Used</td>\n      <td>19826</td>\n      <td>99950.0</td>\n      <td>2017</td>\n      <td>Porsche</td>\n      <td>911</td>\n      <td>Carrera</td>\n      <td>4S</td>\n      <td>Hardtop</td>\n      <td>White</td>\n      <td>Manual</td>\n    </tr>\n    <tr>\n      <th>1494</th>\n      <td>Used</td>\n      <td>15710</td>\n      <td>89995.0</td>\n      <td>2016</td>\n      <td>Porsche</td>\n      <td>911</td>\n      <td>Carrera</td>\n      <td>4S</td>\n      <td>Hardtop</td>\n      <td>White</td>\n      <td>Manual</td>\n    </tr>\n    <tr>\n      <th>1495</th>\n      <td>Used</td>\n      <td>502</td>\n      <td>93900.0</td>\n      <td>2018</td>\n      <td>Porsche</td>\n      <td>911</td>\n      <td>Carrera</td>\n      <td>T</td>\n      <td>Hardtop</td>\n      <td>White</td>\n      <td>Manual</td>\n    </tr>\n    <tr>\n      <th>1496</th>\n      <td>Used</td>\n      <td>5182</td>\n      <td>81995.0</td>\n      <td>2016</td>\n      <td>Porsche</td>\n      <td>911</td>\n      <td>Carrera</td>\n      <td>S</td>\n      <td>Hardtop</td>\n      <td>White</td>\n      <td>Manual</td>\n    </tr>\n    <tr>\n      <th>1501</th>\n      <td>Porsche Certified</td>\n      <td>10074</td>\n      <td>112000.0</td>\n      <td>2018</td>\n      <td>Porsche</td>\n      <td>911</td>\n      <td>Carrera</td>\n      <td>4S</td>\n      <td>Hardtop</td>\n      <td>White</td>\n      <td>Manual</td>\n    </tr>\n  </tbody>\n</table>\n<p>810 rows × 11 columns</p>\n</div>"
     },
     "metadata": {},
     "execution_count": 315
    }
   ],
   "source": [
    "df"
   ]
  },
  {
   "cell_type": "code",
   "execution_count": 316,
   "metadata": {},
   "outputs": [
    {
     "output_type": "execute_result",
     "data": {
      "text/plain": "condition        object\nmilage            int64\nPrice           float64\nYear              int64\nBrand            object\nModel             int64\nModel_Vers       object\nS_RS             object\nCabriolet        object\nColor            object\nTransmission     object\ndtype: object"
     },
     "metadata": {},
     "execution_count": 316
    }
   ],
   "source": [
    "df.dtypes"
   ]
  }
 ],
 "metadata": {
  "language_info": {
   "codemirror_mode": {
    "name": "ipython",
    "version": 3
   },
   "file_extension": ".py",
   "mimetype": "text/x-python",
   "name": "python",
   "nbconvert_exporter": "python",
   "pygments_lexer": "ipython3",
   "version": "3.7.6-final"
  },
  "orig_nbformat": 2,
  "kernelspec": {
   "name": "python3",
   "display_name": "Python 3"
  }
 },
 "nbformat": 4,
 "nbformat_minor": 2
}