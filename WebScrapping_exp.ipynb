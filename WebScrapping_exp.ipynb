{
 "cells": [
  {
   "cell_type": "code",
   "execution_count": 189,
   "metadata": {},
   "outputs": [],
   "source": [
    "from urllib.request import urlopen as uReq\n",
    "from bs4 import BeautifulSoup as soup"
   ]
  },
  {
   "cell_type": "markdown",
   "metadata": {},
   "source": [
    "# Experiment\n",
    "---"
   ]
  },
  {
   "cell_type": "code",
   "execution_count": 193,
   "metadata": {},
   "outputs": [],
   "source": [
    "my_url = 'https://www.cars.com/for-sale/searchresults.action/?mdId=20567&mkId=20081&page=1&perPage=100&rd=99999&searchSource=GN_REFINEMENT&sort=relevance&zc=30008'\n",
    "uClient = uReq(my_url)\n",
    "page_html = uClient.read()\n",
    "uClient.close()"
   ]
  },
  {
   "cell_type": "code",
   "execution_count": 194,
   "metadata": {},
   "outputs": [
    {
     "output_type": "execute_result",
     "data": {
      "text/plain": "97"
     },
     "metadata": {},
     "execution_count": 194
    }
   ],
   "source": [
    "#html_parser\n",
    "page_soup = soup(page_html, 'html.parser')\n",
    "#grab each product\n",
    "containers = page_soup.findAll('div',{'class':'listing-row__details'})\n",
    "len(containers)"
   ]
  },
  {
   "cell_type": "code",
   "execution_count": 208,
   "metadata": {
    "tags": [
     "outputPrepend"
    ]
   },
   "outputs": [
    {
     "output_type": "stream",
     "name": "stdout",
     "text": "2012 Porsche 911 Carrera 40,074 mi. Used $47,999\n"
    },
    {
     "output_type": "error",
     "ename": "IndexError",
     "evalue": "list index out of range",
     "traceback": [
      "\u001b[1;31m---------------------------------------------------------------------------\u001b[0m",
      "\u001b[1;31mIndexError\u001b[0m                                Traceback (most recent call last)",
      "\u001b[1;32m<ipython-input-208-4e8e8c10bfec>\u001b[0m in \u001b[0;36m<module>\u001b[1;34m\u001b[0m\n\u001b[0;32m      8\u001b[0m     \u001b[1;31m#milage\u001b[0m\u001b[1;33m\u001b[0m\u001b[1;33m\u001b[0m\u001b[1;33m\u001b[0m\u001b[0m\n\u001b[0;32m      9\u001b[0m     \u001b[0mmile\u001b[0m \u001b[1;33m=\u001b[0m \u001b[0mcontainer\u001b[0m\u001b[1;33m.\u001b[0m\u001b[0mfindAll\u001b[0m\u001b[1;33m(\u001b[0m\u001b[1;34m'span'\u001b[0m\u001b[1;33m,\u001b[0m\u001b[1;33m{\u001b[0m\u001b[1;34m'class'\u001b[0m\u001b[1;33m:\u001b[0m\u001b[1;34m'listing-row__mileage'\u001b[0m\u001b[1;33m}\u001b[0m\u001b[1;33m)\u001b[0m\u001b[1;33m\u001b[0m\u001b[1;33m\u001b[0m\u001b[0m\n\u001b[1;32m---> 10\u001b[1;33m     \u001b[0mmilage\u001b[0m \u001b[1;33m=\u001b[0m \u001b[0mmile\u001b[0m\u001b[1;33m[\u001b[0m\u001b[1;36m0\u001b[0m\u001b[1;33m]\u001b[0m\u001b[1;33m.\u001b[0m\u001b[0mtext\u001b[0m\u001b[1;33m.\u001b[0m\u001b[0mstrip\u001b[0m\u001b[1;33m(\u001b[0m\u001b[1;33m)\u001b[0m\u001b[1;33m\u001b[0m\u001b[1;33m\u001b[0m\u001b[0m\n\u001b[0m\u001b[0;32m     11\u001b[0m     \u001b[1;31m#price\u001b[0m\u001b[1;33m\u001b[0m\u001b[1;33m\u001b[0m\u001b[1;33m\u001b[0m\u001b[0m\n\u001b[0;32m     12\u001b[0m     \u001b[0mcost_of_cars\u001b[0m \u001b[1;33m=\u001b[0m \u001b[0mcontainer\u001b[0m\u001b[1;33m.\u001b[0m\u001b[0mfindAll\u001b[0m\u001b[1;33m(\u001b[0m\u001b[1;34m'span'\u001b[0m\u001b[1;33m,\u001b[0m\u001b[1;33m{\u001b[0m\u001b[1;34m'class'\u001b[0m\u001b[1;33m:\u001b[0m\u001b[1;34m'listing-row__price'\u001b[0m\u001b[1;33m}\u001b[0m\u001b[1;33m)\u001b[0m\u001b[1;33m\u001b[0m\u001b[1;33m\u001b[0m\u001b[0m\n",
      "\u001b[1;31mIndexError\u001b[0m: list index out of range"
     ]
    }
   ],
   "source": [
    "for container in containers:\n",
    "    #vehicle condition\n",
    "    new_used_cpo = container.findAll('div',{'class':'listing-row__stocktype'})\n",
    "    con_dealer_used = new_used_cpo[0].text.strip()\n",
    "    #vehicle name\n",
    "    name_of_car = container.findAll('h2',{'class':'listing-row__title'})\n",
    "    car = name_of_car[0].text.strip()\n",
    "    #milage\n",
    "    mile = container.findAll('span',{'class':'listing-row__mileage'})\n",
    "    milage = mile[0].text.strip()\n",
    "    #price\n",
    "    cost_of_cars = container.findAll('span',{'class':'listing-row__price'})\n",
    "    price = cost_of_cars[0].text.strip()\n",
    "    print(car,milage,con_dealer_used,price)"
   ]
  },
  {
   "cell_type": "code",
   "execution_count": 184,
   "metadata": {},
   "outputs": [],
   "source": [
    "cost_of_cars = container.findAll('div',{'class':'listing-row__title'})\n"
   ]
  },
  {
   "cell_type": "code",
   "execution_count": 185,
   "metadata": {},
   "outputs": [
    {
     "output_type": "execute_result",
     "data": {
      "text/plain": "[]"
     },
     "metadata": {},
     "execution_count": 185
    }
   ],
   "source": [
    "cost_of_cars"
   ]
  },
  {
   "cell_type": "markdown",
   "metadata": {},
   "source": [
    "## Black 911 (Automatic) page(1)\n",
    "---"
   ]
  },
  {
   "cell_type": "code",
   "execution_count": 229,
   "metadata": {},
   "outputs": [],
   "source": [
    "my_url = 'https://www.cars.com/for-sale/searchresults.action/?mdId=20567&mkId=20081&page=1&perPage=100&rd=99999&searchSource=GN_REFINEMENT&sort=price-highest&stkTypId=28881&transTypeId=28113&zc=30008'\n",
    "uClient = uReq(my_url)\n",
    "page_html = uClient.read()\n",
    "uClient.close()"
   ]
  },
  {
   "cell_type": "code",
   "execution_count": 230,
   "metadata": {},
   "outputs": [
    {
     "output_type": "execute_result",
     "data": {
      "text/plain": "100"
     },
     "metadata": {},
     "execution_count": 230
    }
   ],
   "source": [
    "#html_parser\n",
    "page_soup = soup(page_html, 'html.parser')\n",
    "#grab each product\n",
    "containers = page_soup.findAll('div',{'class':'shop-srp-listings__inner'})\n",
    "len(containers)"
   ]
  },
  {
   "cell_type": "code",
   "execution_count": 260,
   "metadata": {
    "tags": [
     "outputPrepend",
     "outputPrepend"
    ]
   },
   "outputs": [
    {
     "output_type": "stream",
     "name": "stdout",
     "text": "2019 Porsche 911 GT2 RS\nUsed\n1,195 mi.\n2018 Porsche 911 GT2 RS\nUsed\n2,645 mi.\n2018 Porsche 911 GT2 RS\nPorsche Certified\n42 mi.\n2019 Porsche 911 GT2 RS\nUsed\n950 mi.\n2018 Porsche 911 GT2 RS\nUsed\n104 mi.\n2018 Porsche 911 GT2 RS\nUsed\n16 mi.\n2018 Porsche 911 GT2 RS\nPorsche Certified\n1,522 mi.\n2018 Porsche 911 GT2 RS\nUsed\n1,635 mi.\n2018 Porsche 911 GT2 RS\nUsed\n305 mi.\n2018 Porsche 911 GT2 RS\nPorsche Certified\n2,667 mi.\n2018 Porsche 911 GT2 RS\nUsed\n417 mi.\n2018 Porsche 911 GT2 RS\nUsed\n60 mi.\n2019 Porsche 911 GT2 RS\nUsed\n177 mi.\n2018 Porsche 911 GT2 RS\nUsed\n286 mi.\n2018 Porsche 911 GT2 RS\nUsed\n564 mi.\n2018 Porsche 911 GT2 RS\nPorsche Certified\n676 mi.\n2018 Porsche 911 GT2 RS\nUsed\n635 mi.\n2018 Porsche 911 GT2 RS\nPorsche Certified\n6,030 mi.\n2018 Porsche 911 GT2 RS\nUsed\n28 mi.\n2018 Porsche 911 GT2 RS\nUsed\n7,376 mi.\n2018 Porsche 911 GT2 RS\nUsed\n1,278 mi.\n2019 Porsche 911 GT2 RS\nUsed\n499 mi.\n2018 Porsche 911 GT2 RS\nUsed\n680 mi.\n2018 Porsche 911 GT2 RS\nPorsche Certified\n1,770 mi.\n2018 Porsche 911 GT2 RS\nUsed\n1,348 mi.\n2018 Porsche 911 GT2 RS\nPorsche Certified\n763 mi.\n2018 Porsche 911 GT2 RS\nUsed\n2,546 mi.\n2018 Porsche 911 GT2 RS\nUsed\n806 mi.\n2018 Porsche 911 GT2 RS\nUsed\n1,513 mi.\n2018 Porsche 911 GT2 RS\nPorsche Certified\n1,715 mi.\n2018 Porsche 911 GT2 RS\nUsed\n630 mi.\n2018 Porsche 911 GT2 RS\nPorsche Certified\n1,874 mi.\n2018 Porsche 911 GT2 RS\nUsed\n775 mi.\n2018 Porsche 911 Turbo S\nUsed\n341 mi.\n2018 Porsche 911 GT2 RS\nUsed\n1,115 mi.\n2019 Porsche 911 GT2 RS\nUsed\n1,136 mi.\n2018 Porsche 911 GT2 RS\nUsed\n3,734 mi.\n2018 Porsche 911 GT2 RS\nUsed\n164 mi.\n2018 Porsche 911 GT2 RS\nUsed\n1,365 mi.\n2018 Porsche 911 GT2 RS\nUsed\n1,250 mi.\n2018 Porsche 911 GT2 RS\nPorsche Certified\n4,881 mi.\n2018 Porsche 911 GT2 RS\nUsed\n3,393 mi.\n2018 Porsche 911 GT2 RS\nUsed\n785 mi.\n2018 Porsche 911 GT2 RS\nUsed\n1,225 mi.\n2018 Porsche 911 GT2 RS\nUsed\n925 mi.\n2018 Porsche 911 Turbo S\nUsed\n200 mi.\n2018 Porsche 911 Turbo S\nUsed\n860 mi.\n2019 Porsche 911 Turbo S\nUsed\n649 mi.\n2018 Porsche 911 Turbo S\nUsed\n561 mi.\n2019 Porsche 911 Turbo S\nUsed\n267 mi.\n2019 Porsche 911 Turbo S\nUsed\n619 mi.\n2018 Porsche 911 GT2 RS\nPorsche Certified\n989 mi.\n2018 Porsche 911 GT2 RS\nUsed\n4,255 mi.\n2018 Porsche 911 GT2 RS\nUsed\n11,905 mi.\n2019 Porsche 911 Turbo S\nUsed\n209 mi.\n2018 Porsche 911 Turbo S\nUsed\n194 mi.\n2011 Porsche 911\nPorsche Certified\n4,997 mi.\n2019 Porsche 911 Turbo S\nUsed\n72 mi.\n2018 Porsche 911 Turbo S\nUsed\n29 mi.\n2018 Porsche 911 Turbo S\nUsed\n4,154 mi.\n2018 Porsche 911 Turbo S\nUsed\n75 mi.\n2019 Porsche 911 GT3 RS\nUsed\n539 mi.\n2019 Porsche 911 GT3 RS\nUsed\n41 mi.\n2019 Porsche 911 Turbo S\nUsed\n1,512 mi.\n2019 Porsche 911 GT3 RS\nPorsche Certified\n163 mi.\n2019 Porsche 911 GT3\nPorsche Certified\n2,242 mi.\n2019 Porsche 911 GT3 RS\nUsed\n61 mi.\n2019 Porsche 911 GT3 RS\nUsed\n41 mi.\n2019 Porsche 911 GT3 RS\nUsed\n1,730 mi.\n2019 Porsche 911 GT3 RS\nUsed\n1,829 mi.\n2019 Porsche 911 GT3 RS\nUsed\n650 mi.\n2019 Porsche 911 GT3 RS\nUsed\n11 mi.\n2019 Porsche 911 GT3 RS\nUsed\n743 mi.\n2019 Porsche 911 Turbo S\nPorsche Certified\n1,594 mi.\n2019 Porsche 911 GT3 RS\nUsed\n100 mi.\n2019 Porsche 911 GT3 RS\nUsed\n1,071 mi.\n2019 Porsche 911 GT3 RS\nUsed\n274 mi.\n2019 Porsche 911 GT3 RS\nUsed\n620 mi.\n2019 Porsche 911 GT3 RS\nPorsche Certified\n536 mi.\n2019 Porsche 911 GT3 RS\nUsed\n186 mi.\n2019 Porsche 911 GT3 RS\nUsed\n1,426 mi.\n2019 Porsche 911 GT3 RS\nUsed\n2,723 mi.\n2019 Porsche 911 GT3 RS\nUsed\n1,336 mi.\n2019 Porsche 911 GT3 RS\nUsed\n42 mi.\n2019 Porsche 911 GT3 RS\nPorsche Certified\n4,964 mi.\n2019 Porsche 911 GT3 RS\nPorsche Certified\n1,250 mi.\n2019 Porsche 911 GT3 RS\nUsed\n103 mi.\n2019 Porsche 911 GT3 RS\nUsed\n3,187 mi.\n2019 Porsche 911 GT3 RS\nPorsche Certified\n459 mi.\n2019 Porsche 911 GT3 RS\nUsed\n650 mi.\n2019 Porsche 911 GT3 RS\nUsed\n1,817 mi.\n2019 Porsche 911 Turbo S\nPorsche Certified\n3,319 mi.\n2019 Porsche 911 GT3 RS\nUsed\n328 mi.\n2019 Porsche 911 GT3 RS\nUsed\n46 mi.\n2019 Porsche 911 GT3 RS\nUsed\n3,859 mi.\n2019 Porsche 911 GT3 RS\nUsed\n1,515 mi.\n2019 Porsche 911 GT3 RS\nUsed\n4,088 mi.\n2019 Porsche 911 GT3 RS\nUsed\n508 mi.\n2019 Porsche 911 GT3 RS\nPorsche Certified\n7,076 mi.\n2019 Porsche 911 Turbo S\nUsed\n3,351 mi.\n"
    }
   ],
   "source": [
    "my_url = 'https://www.cars.com/for-sale/searchresults.action/?mdId=20567&mkId=20081&page=1&perPage=100&rd=99999&searchSource=GN_REFINEMENT&sort=price-highest&stkTypId=28881&transTypeId=28113&zc=30008'\n",
    "uClient = uReq(my_url)\n",
    "page_html = uClient.read()\n",
    "uClient.close()\n",
    "#html_parser\n",
    "page_soup = soup(page_html, 'html.parser')\n",
    "#grab each product\n",
    "containers = page_soup.findAll('div',{'class':'shop-srp-listings__inner'})\n",
    "len(containers)\n",
    "filename = 'car.csv'\n",
    "f = open(filename, 'w')\n",
    "headers ='car,condition,milage,extar_info\\n'\n",
    "f.write(headers)\n",
    "for container in containers:\n",
    "    #vehicle condition\n",
    "    name_of_car = container.findAll('h2',{'class':'listing-row__title'})\n",
    "    car = name_of_car[0].text.strip()\n",
    "    print(car)\n",
    "    condition_of_car = container.findAll('div',{'class':'listing-row__stocktype'})\n",
    "    condition = condition_of_car[0].text.strip()\n",
    "    print(condition)\n",
    "    milage_of_car = container.findAll('span',{'class':'listing-row__mileage'})\n",
    "    milage = milage_of_car[0].text.strip()\n",
    "    print(milage)\n",
    "    car_information = container.findAll('ul', {'class':'listing-row__meta'})\n",
    "    car_info = car_information[0].text.strip().replace(' ','')\n",
    "    f.write(car+','+ condition +','+milage.replace(',','')+'\\n')\n",
    "f.close()"
   ]
  },
  {
   "cell_type": "markdown",
   "metadata": {},
   "source": [
    "## page 2"
   ]
  },
  {
   "cell_type": "code",
   "execution_count": 729,
   "metadata": {},
   "outputs": [
    {
     "output_type": "stream",
     "name": "stdout",
     "text": "2012 Porsche 911 Carrera\nUsed\n40,074 mi.\n47999\n2012 Porsche 911 Black Edition\nUsed\n33,351 mi.\n44000\n2016 Porsche 911 Carrera\nUsed\n31,000 mi.\n69995\n2012 Porsche 911 Carrera S\nUsed\n56,436 mi.\n51990\n2007 Porsche 911 Carrera S\nUsed\n20,646 mi.\n44548\n2015 Porsche 911 GT3\nUsed\n11,106 mi.\n126500\n2007 Porsche 911 Turbo\nUsed\n106,140 mi.\n39995\n2009 Porsche 911 Carrera Cabriolet\nUsed\n20,663 mi.\n48900\n2014 Porsche 911 Carrera S\nUsed\n34,688 mi.\n67433\n2014 Porsche 911 Carrera\nPorsche Certified\n27,962 mi.\n64490\n2012 Porsche 911 Carrera 4S\nUsed\n41,019 mi.\n57800\n2014 Porsche 911 Turbo S\nUsed\n29,655 mi.\n106990\n2009 Porsche 911 Carrera S Cabriolet\nUsed\n36,118 mi.\n47977\n2012 Porsche 911 Black Edition\nUsed\n42,012 mi.\n48418\n2014 Porsche 911 Carrera 4S\nUsed\n30,465 mi.\n74680\n2007 Porsche 911 Carrera S\nUsed\n72,700 mi.\n34988\n2015 Porsche 911 Carrera S\nUsed\n31,022 mi.\n66940\n2012 Porsche 911 Carrera S\nUsed\n34,155 mi.\n49990\n2012 Porsche 911 Black Edition\nUsed\n40,689 mi.\n46977\n2009 Porsche 911 Carrera\nUsed\n16,587 mi.\n51950\n2012 Porsche 911 Carrera\nUsed\n17,081 mi.\n60999\n2011 Porsche 911 Carrera 4S\nUsed\n35,800 mi.\n64991\n2012 Porsche 911 Black Edition\nUsed\n42,233 mi.\n44591\n2014 Porsche 911 Carrera\nUsed\n34,042 mi.\n56995\n2009 Porsche 911 Turbo Cabriolet\nUsed\n35,420 mi.\n62894\n2015 Porsche 911 Targa 4\nUsed\n42,440 mi.\n69995\n2015 Porsche 911 Carrera S\nUsed\n29,400 mi.\n56995\n2017 Porsche 911 Carrera 4S\nUsed\n10,300 mi.\n82900\n2009 Porsche 911 Turbo\nUsed\n68,246 mi.\n63999\n2014 Porsche 911 Turbo S\nUsed\n57,588 mi.\n85220\n2014 Porsche 911 Carrera S\nUsed\n36,256 mi.\n65999\n2015 Porsche 911 Carrera\nUsed\n28,872 mi.\n67900\n2017 Porsche 911 Carrera S\nUsed\n11,370 mi.\n87000\n2015 Porsche 911 Turbo\nUsed\n37,541 mi.\n97990\n2014 Porsche 911 Turbo S\nUsed\n12,429 mi.\n128000\n2013 Porsche 911 Carrera\nUsed\n49,611 mi.\n54981\n2014 Porsche 911 Turbo S\nUsed\n65,987 mi.\n89995\n2012 Porsche 911 Carrera S\nPorsche Certified\n26,973 mi.\n64898\n2013 Porsche 911 Carrera S\nUsed\n23,124 mi.\n59980\n2010 Porsche 911 Carrera S\nUsed\n37,884 mi.\n51950\n2014 Porsche 911 Carrera\nUsed\n32,322 mi.\n56988\n2014 Porsche 911 Carrera 4S\nUsed\n59,850 mi.\n59999\n2014 Porsche 911 Carrera 4S\nUsed\n69,978 mi.\n58900\n"
    }
   ],
   "source": [
    "my_url = 'https://www.cars.com/for-sale/searchresults.action/?clrId=27123&mdId=20567&mkId=20081&page=1&perPage=1000&rd=99999&searchSource=PAGINATION&sort=relevance&stkTypId=28881&transTypeId=28113&yrId=20200%2C20145%2C20201%2C27381%2C34923%2C39723%2C47272%2C51683%2C56007%2C58487%2C30031936%2C35797618%2C36362520&zc=30008'\n",
    "uClient = uReq(my_url)\n",
    "page_html = uClient.read()\n",
    "uClient.close()\n",
    "#html_parser\n",
    "page_soup = soup(page_html, 'html.parser')\n",
    "#grab each product\n",
    "containers = page_soup.findAll('div',{'class':'shop-srp-listings__inner'})\n",
    "len(containers)\n",
    "filename = 'car3.csv'\n",
    "f = open(filename, 'w')\n",
    "headers ='car,condition,milage,extar_info\\n'\n",
    "f.write(headers)\n",
    "for container in containers:\n",
    "    #name of car\n",
    "    name_of_car = container.findAll('h2',{'class':'listing-row__title'})\n",
    "    car = name_of_car[0].text.strip()\n",
    "    print(car)\n",
    "    #condition of car\n",
    "    condition_of_car = container.findAll('div',{'class':'listing-row__stocktype'})\n",
    "    condition = condition_of_car[0].text.strip()\n",
    "    print(condition)\n",
    "    #milage of car\n",
    "    milage_of_car = container.findAll('span',{'class':'listing-row__mileage'})\n",
    "    milage = milage_of_car[0].text.strip()\n",
    "    print(milage)\n",
    "    car_price = container.findAll('span',{'class':'listing-row__price'})\n",
    "    price = car_price[0].text.strip()\n",
    "    price_edit = price.replace('$','')\n",
    "    price = price_edit.replace(',','')\n",
    "    print(price)\n",
    "    car_information = container.findAll('ul', {'class':'listing-row__meta'})\n",
    "    car_info = car_information[0].text.strip().replace(' ','')\n",
    "    f.write(car+','+ condition +','+milage.replace(',','')+','+price+'\\n')\n",
    "f.close()"
   ]
  },
  {
   "cell_type": "markdown",
   "metadata": {},
   "source": [
    "## page 3"
   ]
  },
  {
   "cell_type": "code",
   "execution_count": 266,
   "metadata": {},
   "outputs": [
    {
     "output_type": "stream",
     "name": "stdout",
     "text": "2010 Porsche 911 Turbo\nUsed\n13,085 mi.\n2019 Porsche 911 Turbo S\nUsed\n2,166 mi.\n2012 Porsche 911 Turbo S\nUsed\n28,013 mi.\n2015 Porsche 911 Turbo\nUsed\n37,541 mi.\n2016 Porsche 911 Carrera 4\nUsed\n54,993 mi.\n2012 Porsche 911 Carrera S\nUsed\n56,436 mi.\n2018 Porsche 911 Carrera S\nUsed\n7,299 mi.\n2008 Porsche 911 Carrera S Cabriolet\nUsed\n93,033 mi.\n2008 Porsche 911 Carrera S Cabriolet\nUsed\n50,695 mi.\n2017 Porsche 911 Targa 4S\nUsed\n26,287 mi.\n2016 Porsche 911 Carrera\nUsed\n24,431 mi.\n2015 Porsche 911 Carrera S\nUsed\n15,157 mi.\n2016 Porsche 911 Carrera\nUsed\n36,422 mi.\n2016 Porsche 911 Carrera S\nUsed\n12,693 mi.\n2017 Porsche 911 Carrera S\nUsed\n34,281 mi.\n2010 Porsche 911 Carrera\nUsed\n40,291 mi.\n2013 Porsche 911 Carrera\nPorsche Certified\n51,312 mi.\n2019 Porsche 911 Turbo S\nUsed\n119 mi.\n2014 Porsche 911 Carrera\nUsed\n4,807 mi.\n2010 Porsche 911 Carrera S\nUsed\n33,302 mi.\n2019 Porsche 911 Carrera GTS\nUsed\n32,477 mi.\n2017 Porsche 911 Carrera S\nUsed\n8,508 mi.\n2018 Porsche 911 Carrera\nUsed\n22,323 mi.\n2013 Porsche 911 Carrera 4S\nUsed\n23,556 mi.\n2016 Porsche 911 Carrera S\nUsed\n17,130 mi.\n2019 Porsche 911 Carrera 4 GTS\nUsed\n1,255 mi.\n2016 Porsche 911 Carrera GTS\nUsed\n20,187 mi.\n2014 Porsche 911 Carrera S\nUsed\n6,118 mi.\n2012 Porsche 911 Turbo S\nUsed\n114,910 mi.\n2013 Porsche 911 Carrera 4\nUsed\n53,500 mi.\n2016 Porsche 911 Carrera\nUsed\n9,482 mi.\n2012 Porsche 911 Carrera S\nUsed\n20,412 mi.\n2012 Porsche 911 Carrera S\nUsed\n13,522 mi.\n2011 Porsche 911 Turbo S\nPorsche Certified\n11,130 mi.\n2012 Porsche 911 Carrera 4 GTS\nPorsche Certified\n21,174 mi.\n2009 Porsche 911 Turbo\nUsed\n35,106 mi.\n2015 Porsche 911 Targa 4S\nPorsche Certified\n17,489 mi.\n2017 Porsche 911 Carrera 4S\nUsed\n36,000 mi.\n2016 Porsche 911 Targa 4S\nPorsche Certified\n11,667 mi.\n2018 Porsche 911 Carrera\nUsed\n15,050 mi.\n2016 Porsche 911 Carrera GTS\nUsed\n17,000 mi.\n2012 Porsche 911 Carrera S\nUsed\n72,047 mi.\n2012 Porsche 911 991 Carrera S\nUsed\n34,445 mi.\n2007 Porsche 911 Turbo\nUsed\n18,988 mi.\n2012 Porsche 911 Carrera 4 GTS\nUsed\n31,501 mi.\n2017 Porsche 911 Carrera S\nPorsche Certified\n15,235 mi.\n2019 Porsche 911 Carrera S\nPorsche Certified\n2,836 mi.\n2017 Porsche 911 Carrera\nUsed\n9,421 mi.\n2019 Porsche 911 Carrera\nUsed\n6,321 mi.\n2017 Porsche 911 Carrera\nPorsche Certified\n22,011 mi.\n2018 Porsche 911 Carrera\nPorsche Certified\n1,332 mi.\n2017 Porsche 911 Carrera 4S\nUsed\n33,853 mi.\n2008 Porsche 911 Turbo Cabriolet\nUsed\n73,301 mi.\n2007 Porsche 911 Turbo\nUsed\n29,253 mi.\n2016 Porsche 911 Carrera\nUsed\n18,485 mi.\n2015 Porsche 911 Carrera 4S\nUsed\n31,017 mi.\n2007 Porsche 911 Carrera S Cabriolet\nUsed\n86,000 mi.\n2015 Porsche 911 Turbo S\nUsed\n17,312 mi.\n2013 Porsche 911 Carrera 4S\nUsed\n35,743 mi.\n2018 Porsche 911 Carrera GTS\nUsed\n7,291 mi.\n"
    }
   ],
   "source": [
    "my_url = 'https://www.cars.com/for-sale/searchresults.action/?clrId=27123&mdId=20567&mkId=20081&page=3&perPage=100&rd=99999&searchSource=PAGINATION&sort=relevance&stkTypId=28881&transTypeId=28113&yrId=20200%2C20145%2C20201%2C27381%2C34923%2C39723%2C47272%2C51683%2C56007%2C58487%2C30031936%2C35797618%2C36362520&zc=30008'\n",
    "uClient = uReq(my_url)\n",
    "page_html = uClient.read()\n",
    "uClient.close()\n",
    "#html_parser\n",
    "page_soup = soup(page_html, 'html.parser')\n",
    "#grab each product\n",
    "containers = page_soup.findAll('div',{'class':'shop-srp-listings__inner'})\n",
    "len(containers)\n",
    "filename = 'car3.csv'\n",
    "f = open(filename, 'w')\n",
    "headers ='car,condition,milage,extar_info\\n'\n",
    "f.write(headers)\n",
    "for container in containers:\n",
    "    #vehicle condition\n",
    "    name_of_car = container.findAll('h2',{'class':'listing-row__title'})\n",
    "    car = name_of_car[0].text.strip()\n",
    "    print(car)\n",
    "    condition_of_car = container.findAll('div',{'class':'listing-row__stocktype'})\n",
    "    condition = condition_of_car[0].text.strip()\n",
    "    print(condition)\n",
    "    milage_of_car = container.findAll('span',{'class':'listing-row__mileage'})\n",
    "    milage = milage_of_car[0].text.strip()\n",
    "    print(milage)\n",
    "    car_information = container.findAll('ul', {'class':'listing-row__meta'})\n",
    "    car_info = car_information[0].text.strip().replace(' ','')\n",
    "    f.write(car+','+ condition +','+milage.replace(',','')+'\\n')\n",
    "f.close()"
   ]
  },
  {
   "cell_type": "markdown",
   "metadata": {},
   "source": [
    "## Page 4\n",
    "---"
   ]
  },
  {
   "cell_type": "code",
   "execution_count": 268,
   "metadata": {},
   "outputs": [
    {
     "output_type": "stream",
     "name": "stdout",
     "text": "2017 Porsche 911 Turbo\nPorsche Certified\n7,751 mi.\n2017 Porsche 911 Carrera\nUsed\n25,335 mi.\n2012 Porsche 911 Turbo S\nUsed\n32,604 mi.\n2015 Porsche 911 Turbo\nUsed\n37,541 mi.\n2012 Porsche 911 Carrera S\nUsed\n56,436 mi.\n2014 Porsche 911 Turbo\nUsed\n52,513 mi.\n2019 Porsche 911 Carrera T\nUsed\n1,596 mi.\n2012 Porsche 911 Turbo S\nUsed\n3,919 mi.\n2013 Porsche 911 Carrera 4S\nUsed\n34,369 mi.\n2010 Porsche 911 Carrera S\nUsed\n64,107 mi.\n2016 Porsche 911 Carrera S\nPorsche Certified\n7,688 mi.\n2015 Porsche 911 Carrera\nUsed\n48,682 mi.\n2018 Porsche 911 Turbo S\nUsed\n860 mi.\n2017 Porsche 911 Carrera S\nPorsche Certified\n30,705 mi.\n2017 Porsche 911 Targa 4S\nUsed\n23,947 mi.\n2008 Porsche 911 Carrera S Cabriolet\nUsed\n34,520 mi.\n2018 Porsche 911 Carrera\nUsed\n22,323 mi.\n2017 Porsche 911 Carrera\nUsed\n14,241 mi.\n2010 Porsche 911 Carrera 4S\nUsed\n32,500 mi.\n2013 Porsche 911 Carrera 4S\nPorsche Certified\n28,376 mi.\n2007 Porsche 911 Turbo\nUsed\n7,315 mi.\n2014 Porsche 911 Turbo S\nPorsche Certified\n24,358 mi.\n2014 Porsche 911 Carrera 4S\nUsed\n11,710 mi.\n2014 Porsche 911 Carrera 4S\nPorsche Certified\n45,668 mi.\n2014 Porsche 911 Carrera\nPorsche Certified\n14,826 mi.\n2014 Porsche 911 Carrera 4\nUsed\n24,300 mi.\n2017 Porsche 911 Carrera 4S\nUsed\n16,340 mi.\n2008 Porsche 911 Carrera 4S\nUsed\n77,524 mi.\n2018 Porsche 911 Turbo\nUsed\n9,579 mi.\n2015 Porsche 911 Targa 4S\nUsed\n54,000 mi.\n2018 Porsche 911 Carrera GTS\nUsed\n6,793 mi.\n2017 Porsche 911 Carrera S\nPorsche Certified\n22,416 mi.\n2018 Porsche 911 GT3\nUsed\n21,181 mi.\n2016 Porsche 911 Carrera GTS\nPorsche Certified\n11,862 mi.\n2014 Porsche 911 Carrera\nUsed\n28,906 mi.\n2017 Porsche 911 Carrera 4S\nUsed\n13,542 mi.\n2019 Porsche 911 Turbo S\nUsed\n1,512 mi.\n2012 Porsche 911 Carrera GTS\nUsed\n11,803 mi.\n2014 Porsche 911 Carrera 4S\nPorsche Certified\n25,690 mi.\n2012 Porsche 911 Turbo S\nUsed\n22,481 mi.\n2007 Porsche 911 Turbo\nUsed\n19,800 mi.\n"
    }
   ],
   "source": [
    "my_url = 'https://www.cars.com/for-sale/searchresults.action/?clrId=27123&mdId=20567&mkId=20081&page=4&perPage=100&rd=99999&searchSource=PAGINATION&sort=relevance&stkTypId=28881&transTypeId=28113&yrId=20200%2C20145%2C20201%2C27381%2C34923%2C39723%2C47272%2C51683%2C56007%2C58487%2C30031936%2C35797618%2C36362520&zc=30008'\n",
    "uClient = uReq(my_url)\n",
    "page_html = uClient.read()\n",
    "uClient.close()\n",
    "#html_parser\n",
    "page_soup = soup(page_html, 'html.parser')\n",
    "#grab each product\n",
    "containers = page_soup.findAll('div',{'class':'shop-srp-listings__inner'})\n",
    "len(containers)\n",
    "filename = 'car4.csv'\n",
    "f = open(filename, 'w')\n",
    "headers ='car,condition,milage,extar_info\\n'\n",
    "f.write(headers)\n",
    "for container in containers:\n",
    "    #vehicle condition\n",
    "    name_of_car = container.findAll('h2',{'class':'listing-row__title'})\n",
    "    car = name_of_car[0].text.strip()\n",
    "    print(car)\n",
    "    condition_of_car = container.findAll('div',{'class':'listing-row__stocktype'})\n",
    "    condition = condition_of_car[0].text.strip()\n",
    "    print(condition)\n",
    "    milage_of_car = container.findAll('span',{'class':'listing-row__mileage'})\n",
    "    milage = milage_of_car[0].text.strip()\n",
    "    print(milage)\n",
    "    car_information = container.findAll('ul', {'class':'listing-row__meta'})\n",
    "    car_info = car_information[0].text.strip().replace(' ','')\n",
    "    f.write(car+','+ condition +','+milage.replace(',','')+'\\n')\n",
    "f.close()"
   ]
  },
  {
   "cell_type": "markdown",
   "metadata": {},
   "source": [
    "## page 5\n",
    "---"
   ]
  },
  {
   "cell_type": "code",
   "execution_count": 283,
   "metadata": {},
   "outputs": [
    {
     "output_type": "stream",
     "name": "stdout",
     "text": "2015 Porsche 911 Carrera\nUsed\n15,541 mi.\n2015 Porsche 911 Carrera\nUsed\n28,724 mi.\n2015 Porsche 911 Targa 4S\nUsed\n27,275 mi.\n2015 Porsche 911 Carrera 4\nUsed\n27,268 mi.\n2009 Porsche 911 Targa 4S\nUsed\n37,201 mi.\n2014 Porsche 911 Carrera\nUsed\n45,687 mi.\n2016 Porsche 911 Targa 4S\nUsed\n29,996 mi.\n2014 Porsche 911 Turbo S\nUsed\n3,044 mi.\n2014 Porsche 911 Carrera\nUsed\n41,148 mi.\n2015 Porsche 911 GT3\nUsed\n12,317 mi.\n2016 Porsche 911 GT3 RS\nUsed\n5,190 mi.\n2014 Porsche 911 Carrera S\nUsed\n25,799 mi.\n2012 Porsche 911 Carrera S\nUsed\n75,658 mi.\n2008 Porsche 911 Turbo Cabriolet\nUsed\n36,525 mi.\n2019 Porsche 911 GT3 RS\nUsed\n1,336 mi.\n2014 Porsche 911 Carrera 4S\nUsed\n28,822 mi.\n2016 Porsche 911 Turbo S\nUsed\n17,867 mi.\n2016 Porsche 911 GT3 RS\nUsed\n12,126 mi.\n2014 Porsche 911 Carrera S\nUsed\n17,157 mi.\n2015 Porsche 911 Turbo S\nUsed\n36,012 mi.\n2019 Porsche 911 Turbo\nUsed\n3,155 mi.\n2015 Porsche 911 Carrera 4S\nUsed\n15,000 mi.\n2017 Porsche 911 Carrera GTS\nUsed\n10,727 mi.\n2019 Porsche 911 GT2 RS\nUsed\n3,373 mi.\n2018 Porsche 911 GT2 RS\nUsed\n60 mi.\n2015 Porsche 911 Carrera S\nUsed\n63,188 mi.\n2016 Porsche 911 GT3 RS\nUsed\n739 mi.\n2018 Porsche 911 GT2 RS\nUsed\n164 mi.\n2015 Porsche 911 Turbo S\nUsed\n28,989 mi.\n2019 Porsche 911 GT3 RS\nUsed\n2,855 mi.\n2018 Porsche 911 GT2 RS\nPorsche Certified\n6,030 mi.\n2015 Porsche 911 Carrera S\nUsed\n16,271 mi.\n2015 Porsche 911 Turbo\nUsed\n7,059 mi.\n2016 Porsche 911 Turbo\nUsed\n5,525 mi.\n2018 Porsche 911 Carrera\nUsed\n6,672 mi.\n2017 Porsche 911 Turbo\nUsed\n17,647 mi.\n2016 Porsche 911 Turbo S\nPorsche Certified\n10,627 mi.\n2016 Porsche 911 GT3 RS\nUsed\n1,128 mi.\n2018 Porsche 911 GT2 RS\nUsed\n775 mi.\n2019 Porsche 911 GT3\nUsed\n4,389 mi.\n2015 Porsche 911 GT3\nUsed\n13,168 mi.\n2014 Porsche 911 GT3\nUsed\n7,100 mi.\n2019 Porsche 911 Carrera S\nPorsche Certified\n5,043 mi.\n2016 Porsche 911 Targa 4S\nUsed\n11,600 mi.\n2015 Porsche 911 GT3\nUsed\n7,492 mi.\n2017 Porsche 911 Carrera 4S\nUsed\n3,892 mi.\n2017 Porsche 911 Turbo S\nUsed\n8,144 mi.\n2018 Porsche 911 Carrera S\nUsed\n3,288 mi.\n2016 Porsche 911 GT3 RS\nUsed\n3,618 mi.\n2019 Porsche 911 Targa 4 GTS\nPorsche Certified\n12,172 mi.\n2019 Porsche 911 Carrera S\nUsed\n3,544 mi.\n2018 Porsche 911 Carrera 4S\nUsed\n10,080 mi.\n2019 Porsche 911 GT3 RS\nUsed\n1,071 mi.\n2016 Porsche 911 Carrera S\nUsed\n18,257 mi.\n2018 Porsche 911 GT3\nUsed\n2,908 mi.\n2015 Porsche 911 Carrera GTS\nUsed\n6,980 mi.\n2018 Porsche 911 GT2 RS\nPorsche Certified\n1,522 mi.\n2016 Porsche 911 GT3 RS\nUsed\n2,400 mi.\n2018 Porsche 911 Turbo S\nUsed\n11,750 mi.\n2018 Porsche 911 Targa 4S\nPorsche Certified\n3,469 mi.\n2018 Porsche 911 GT2 RS\nUsed\n630 mi.\n2018 Porsche 911 GT2 RS\nUsed\n282 mi.\n2018 Porsche 911 GT3\nUsed\n4,356 mi.\n2019 Porsche 911 GT2 RS\nPorsche Certified\n858 mi.\n"
    }
   ],
   "source": [
    "my_url = 'https://www.cars.com/for-sale/searchresults.action/?clrId=27125%2C27129%2C27135&mdId=20567&mkId=20081&page=1&perPage=100&rd=99999&searchSource=GN_REFINEMENT&sort=relevance&stkTypId=28881&transTypeId=28113&yrId=20200%2C20145%2C20201%2C27381%2C34923%2C39723%2C47272%2C51683%2C56007%2C58487%2C30031936%2C35797618%2C36362520&zc=30008'\n",
    "uClient = uReq(my_url)\n",
    "page_html = uClient.read()\n",
    "uClient.close()\n",
    "#html_parser\n",
    "page_soup = soup(page_html, 'html.parser')\n",
    "#grab each product\n",
    "containers = page_soup.findAll('div',{'class':'shop-srp-listings__inner'})\n",
    "len(containers)\n",
    "filename = 'car1other.csv'\n",
    "f = open(filename, 'w')\n",
    "headers ='car,condition,milage,extar_info\\n'\n",
    "f.write(headers)\n",
    "for container in containers:\n",
    "    #vehicle condition\n",
    "    name_of_car = container.findAll('h2',{'class':'listing-row__title'})\n",
    "    car = name_of_car[0].text.strip()\n",
    "    print(car)\n",
    "    condition_of_car = container.findAll('div',{'class':'listing-row__stocktype'})\n",
    "    condition = condition_of_car[0].text.strip()\n",
    "    print(condition)\n",
    "    milage_of_car = container.findAll('span',{'class':'listing-row__mileage'})\n",
    "    milage = milage_of_car[0].text.strip()\n",
    "    print(milage)\n",
    "    car_information = container.findAll('ul', {'class':'listing-row__meta'})\n",
    "    car_info = car_information[0].text.strip().replace(' ','')\n",
    "    f.write(car+','+ condition +','+milage.replace(',','')+'\\n')\n",
    "f.close()"
   ]
  },
  {
   "cell_type": "markdown",
   "metadata": {},
   "source": [
    "## Manual"
   ]
  },
  {
   "cell_type": "code",
   "execution_count": 290,
   "metadata": {},
   "outputs": [
    {
     "output_type": "stream",
     "name": "stdout",
     "text": "2007 Porsche 911 Carrera S\nUsed\n33,545 mi.\n2008 Porsche 911 Targa 4S\nUsed\n67,640 mi.\n2013 Porsche 911 Carrera\nUsed\n17,366 mi.\n2007 Porsche 911 Carrera 4S\nUsed\n106,168 mi.\n2007 Porsche 911 GT3\nUsed\n9,800 mi.\n2019 Porsche 911 Carrera\nUsed\n6,806 mi.\n2009 Porsche 911 Carrera S\nUsed\n6,732 mi.\n2007 Porsche 911 Carrera 4S\nUsed\n23,656 mi.\n2007 Porsche 911 Carrera Cabriolet\nUsed\n49,168 mi.\n2016 Porsche 911 Carrera 4 GTS\nUsed\n37,527 mi.\n2007 Porsche 911 Carrera 4S Cabriolet\nUsed\n9,254 mi.\n2009 Porsche 911 Turbo Cabriolet\nUsed\n26,615 mi.\n2007 Porsche 911 Carrera 4S\nUsed\n15,787 mi.\n2017 Porsche 911 Carrera\nUsed\n36,100 mi.\n2018 Porsche 911 Carrera S\nUsed\n7,742 mi.\n2019 Porsche 911 Speedster\nUsed\n1,070 mi.\n2019 Porsche 911 Carrera\nUsed\n753 mi.\n2012 Porsche 911 Carrera 4 GTS\nUsed\n4,950 mi.\n2008 Porsche 911 Turbo Cabriolet\nUsed\n44,200 mi.\n2018 Porsche 911 Carrera GTS\nUsed\n3,207 mi.\n2011 Porsche 911 GT2 RS\nUsed\n4,270 mi.\n2019 Porsche 911 Speedster\nUsed\n31 mi.\n2017 Porsche 911 Carrera\nPorsche Certified\n21,358 mi.\n2013 Porsche 911 Carrera\nPorsche Certified\n8,708 mi.\n2018 Porsche 911 Carrera\nUsed\n15,539 mi.\n2009 Porsche 911 Carrera S Cabriolet\nUsed\n19,950 mi.\n2019 Porsche 911 Carrera\nUsed\n6,040 mi.\n2013 Porsche 911 Carrera\nUsed\n29,677 mi.\n2008 Porsche 911 Carrera S\nUsed\n65,396 mi.\n"
    }
   ],
   "source": [
    "my_url = 'https://www.cars.com/for-sale/searchresults.action/?clrId=27132&mdId=20567&mkId=20081&page=1&perPage=100&rd=99999&searchSource=GN_REFINEMENT&sort=relevance&stkTypId=28881&transTypeId=28112&yrId=20200%2C20145%2C20201%2C27381%2C34923%2C39723%2C47272%2C51683%2C56007%2C58487%2C30031936%2C35797618%2C36362520&zc=30008'\n",
    "uClient = uReq(my_url)\n",
    "page_html = uClient.read()\n",
    "uClient.close()\n",
    "#html_parser\n",
    "page_soup = soup(page_html, 'html.parser')\n",
    "#grab each product\n",
    "containers = page_soup.findAll('div',{'class':'shop-srp-listings__inner'})\n",
    "len(containers)\n",
    "filename = 'car1red_m.csv'\n",
    "f = open(filename, 'w')\n",
    "headers ='car,condition,milage,extar_info\\n'\n",
    "f.write(headers)\n",
    "for container in containers:\n",
    "    #vehicle condition\n",
    "    name_of_car = container.findAll('h2',{'class':'listing-row__title'})\n",
    "    car = name_of_car[0].text.strip()\n",
    "    print(car)\n",
    "    condition_of_car = container.findAll('div',{'class':'listing-row__stocktype'})\n",
    "    condition = condition_of_car[0].text.strip()\n",
    "    print(condition)\n",
    "    milage_of_car = container.findAll('span',{'class':'listing-row__mileage'})\n",
    "    milage = milage_of_car[0].text.strip()\n",
    "    print(milage)\n",
    "    car_information = container.findAll('ul', {'class':'listing-row__meta'})\n",
    "    car_info = car_information[0].text.strip().replace(' ','')\n",
    "    f.write(car+','+ condition +','+milage.replace(',','')+'\\n')\n",
    "f.close()"
   ]
  }
 ],
 "metadata": {
  "language_info": {
   "codemirror_mode": {
    "name": "ipython",
    "version": 3
   },
   "file_extension": ".py",
   "mimetype": "text/x-python",
   "name": "python",
   "nbconvert_exporter": "python",
   "pygments_lexer": "ipython3",
   "version": "3.7.6-final"
  },
  "orig_nbformat": 2,
  "kernelspec": {
   "name": "python3",
   "display_name": "Python 3"
  }
 },
 "nbformat": 4,
 "nbformat_minor": 2
}